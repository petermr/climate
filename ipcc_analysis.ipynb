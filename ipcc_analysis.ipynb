{
 "cells": [
  {
   "cell_type": "code",
   "execution_count": 1,
   "metadata": {
    "colab": {
     "base_uri": "https://localhost:8080/",
     "height": 1000
    },
    "id": "DI0RTVx_WrXW",
    "outputId": "e95d934d-bf13-4822-9839-61df579da53c"
   },
   "outputs": [
    {
     "name": "stdout",
     "output_type": "stream",
     "text": [
      "Requirement already satisfied: wikipedia in /opt/anaconda3/lib/python3.8/site-packages (1.4.0)\n",
      "Requirement already satisfied: beautifulsoup4 in /opt/anaconda3/lib/python3.8/site-packages (from wikipedia) (4.10.0)\n",
      "Requirement already satisfied: requests<3.0.0,>=2.0.0 in /opt/anaconda3/lib/python3.8/site-packages (from wikipedia) (2.27.1)\n",
      "Requirement already satisfied: charset-normalizer~=2.0.0 in /opt/anaconda3/lib/python3.8/site-packages (from requests<3.0.0,>=2.0.0->wikipedia) (2.0.10)\n",
      "Requirement already satisfied: urllib3<1.27,>=1.21.1 in /opt/anaconda3/lib/python3.8/site-packages (from requests<3.0.0,>=2.0.0->wikipedia) (1.26.7)\n",
      "Requirement already satisfied: idna<4,>=2.5 in /opt/anaconda3/lib/python3.8/site-packages (from requests<3.0.0,>=2.0.0->wikipedia) (3.3)\n",
      "Requirement already satisfied: certifi>=2017.4.17 in /opt/anaconda3/lib/python3.8/site-packages (from requests<3.0.0,>=2.0.0->wikipedia) (2021.10.8)\n",
      "Requirement already satisfied: soupsieve>1.2 in /opt/anaconda3/lib/python3.8/site-packages (from beautifulsoup4->wikipedia) (2.3.1)\n",
      "Requirement already satisfied: docanalysis in /opt/anaconda3/lib/python3.8/site-packages (0.1.9)\n",
      "Requirement already satisfied: pytest==6.2.5 in /opt/anaconda3/lib/python3.8/site-packages (from docanalysis) (6.2.5)\n",
      "Requirement already satisfied: tkinterweb==3.10.7 in /opt/anaconda3/lib/python3.8/site-packages (from docanalysis) (3.10.7)\n",
      "Requirement already satisfied: abbreviations in /opt/anaconda3/lib/python3.8/site-packages (from docanalysis) (0.2.5)\n",
      "Requirement already satisfied: setuptools==60.3.1 in /opt/anaconda3/lib/python3.8/site-packages (from docanalysis) (60.3.1)\n",
      "Requirement already satisfied: scispacy==0.4.0 in /opt/anaconda3/lib/python3.8/site-packages (from docanalysis) (0.4.0)\n",
      "Requirement already satisfied: pygetpapers in /opt/anaconda3/lib/python3.8/site-packages (from docanalysis) (1.2.3)\n",
      "Requirement already satisfied: lxml==4.7.1 in /opt/anaconda3/lib/python3.8/site-packages (from docanalysis) (4.7.1)\n",
      "Requirement already satisfied: nltk==3.6.7 in /opt/anaconda3/lib/python3.8/site-packages (from docanalysis) (3.6.7)\n",
      "Requirement already satisfied: beautifulsoup4==4.10.0 in /opt/anaconda3/lib/python3.8/site-packages (from docanalysis) (4.10.0)\n",
      "Requirement already satisfied: pandas==1.3.4 in /opt/anaconda3/lib/python3.8/site-packages (from docanalysis) (1.3.4)\n",
      "Requirement already satisfied: coloredlogs==15.0.1 in /opt/anaconda3/lib/python3.8/site-packages (from docanalysis) (15.0.1)\n",
      "Requirement already satisfied: braceexpand==0.1.7 in /opt/anaconda3/lib/python3.8/site-packages (from docanalysis) (0.1.7)\n",
      "Requirement already satisfied: tqdm==4.62.3 in /opt/anaconda3/lib/python3.8/site-packages (from docanalysis) (4.62.3)\n",
      "Requirement already satisfied: ConfigArgParse==1.5.3 in /opt/anaconda3/lib/python3.8/site-packages (from docanalysis) (1.5.3)\n",
      "Requirement already satisfied: spacy==3.0.7 in /opt/anaconda3/lib/python3.8/site-packages (from docanalysis) (3.0.7)\n",
      "Requirement already satisfied: py4ami==0.0.16 in /opt/anaconda3/lib/python3.8/site-packages (from docanalysis) (0.0.16)\n",
      "Requirement already satisfied: soupsieve>1.2 in /opt/anaconda3/lib/python3.8/site-packages (from beautifulsoup4==4.10.0->docanalysis) (2.3.1)\n",
      "Requirement already satisfied: humanfriendly>=9.1 in /opt/anaconda3/lib/python3.8/site-packages (from coloredlogs==15.0.1->docanalysis) (9.2)\n",
      "Requirement already satisfied: click in /opt/anaconda3/lib/python3.8/site-packages (from nltk==3.6.7->docanalysis) (7.1.2)\n",
      "Requirement already satisfied: joblib in /opt/anaconda3/lib/python3.8/site-packages (from nltk==3.6.7->docanalysis) (1.1.0)\n",
      "Requirement already satisfied: regex>=2021.8.3 in /opt/anaconda3/lib/python3.8/site-packages (from nltk==3.6.7->docanalysis) (2021.11.10)\n",
      "Requirement already satisfied: numpy>=1.17.3 in /opt/anaconda3/lib/python3.8/site-packages (from pandas==1.3.4->docanalysis) (1.22.0)\n",
      "Requirement already satisfied: python-dateutil>=2.7.3 in /opt/anaconda3/lib/python3.8/site-packages (from pandas==1.3.4->docanalysis) (2.8.2)\n",
      "Requirement already satisfied: pytz>=2017.3 in /opt/anaconda3/lib/python3.8/site-packages (from pandas==1.3.4->docanalysis) (2020.1)\n",
      "Requirement already satisfied: SPARQLWrapper in /opt/anaconda3/lib/python3.8/site-packages (from py4ami==0.0.16->docanalysis) (1.8.5)\n",
      "Requirement already satisfied: pdfminer3 in /opt/anaconda3/lib/python3.8/site-packages (from py4ami==0.0.16->docanalysis) (2018.12.3.0)\n",
      "Requirement already satisfied: python-rake in /opt/anaconda3/lib/python3.8/site-packages (from py4ami==0.0.16->docanalysis) (1.5.0)\n",
      "Requirement already satisfied: Pillow in /opt/anaconda3/lib/python3.8/site-packages (from py4ami==0.0.16->docanalysis) (9.1.1)\n",
      "Requirement already satisfied: tkinterhtml in /opt/anaconda3/lib/python3.8/site-packages (from py4ami==0.0.16->docanalysis) (0.7)\n",
      "Requirement already satisfied: psutil in /opt/anaconda3/lib/python3.8/site-packages (from py4ami==0.0.16->docanalysis) (5.9.0)\n",
      "Requirement already satisfied: matplotlib in /opt/anaconda3/lib/python3.8/site-packages (from py4ami==0.0.16->docanalysis) (3.5.1)\n",
      "Requirement already satisfied: PyPDF2 in /opt/anaconda3/lib/python3.8/site-packages (from py4ami==0.0.16->docanalysis) (1.26.0)\n",
      "Requirement already satisfied: pluggy<2.0,>=0.12 in /opt/anaconda3/lib/python3.8/site-packages (from pytest==6.2.5->docanalysis) (0.13.1)\n",
      "Requirement already satisfied: packaging in /opt/anaconda3/lib/python3.8/site-packages (from pytest==6.2.5->docanalysis) (21.3)\n",
      "Requirement already satisfied: attrs>=19.2.0 in /opt/anaconda3/lib/python3.8/site-packages (from pytest==6.2.5->docanalysis) (20.2.0)\n",
      "Requirement already satisfied: toml in /opt/anaconda3/lib/python3.8/site-packages (from pytest==6.2.5->docanalysis) (0.10.1)\n",
      "Requirement already satisfied: iniconfig in /opt/anaconda3/lib/python3.8/site-packages (from pytest==6.2.5->docanalysis) (0.0.0)\n",
      "Requirement already satisfied: py>=1.8.2 in /opt/anaconda3/lib/python3.8/site-packages (from pytest==6.2.5->docanalysis) (1.9.0)\n",
      "Requirement already satisfied: requests<3.0.0,>=2.0.0 in /opt/anaconda3/lib/python3.8/site-packages (from scispacy==0.4.0->docanalysis) (2.27.1)\n",
      "Requirement already satisfied: nmslib>=1.7.3.6 in /opt/anaconda3/lib/python3.8/site-packages (from scispacy==0.4.0->docanalysis) (2.1.1)\n",
      "Requirement already satisfied: scikit-learn>=0.20.3 in /opt/anaconda3/lib/python3.8/site-packages (from scispacy==0.4.0->docanalysis) (1.1.1)\n",
      "Requirement already satisfied: conllu in /opt/anaconda3/lib/python3.8/site-packages (from scispacy==0.4.0->docanalysis) (4.4.1)\n",
      "Requirement already satisfied: pysbd in /opt/anaconda3/lib/python3.8/site-packages (from scispacy==0.4.0->docanalysis) (0.3.4)\n",
      "Requirement already satisfied: preshed<3.1.0,>=3.0.2 in /opt/anaconda3/lib/python3.8/site-packages (from spacy==3.0.7->docanalysis) (3.0.5)\n",
      "Requirement already satisfied: jinja2 in /opt/anaconda3/lib/python3.8/site-packages (from spacy==3.0.7->docanalysis) (2.11.2)\n",
      "Requirement already satisfied: pathy>=0.3.5 in /opt/anaconda3/lib/python3.8/site-packages (from spacy==3.0.7->docanalysis) (0.6.0)\n",
      "Requirement already satisfied: murmurhash<1.1.0,>=0.28.0 in /opt/anaconda3/lib/python3.8/site-packages (from spacy==3.0.7->docanalysis) (1.0.5)\n",
      "Requirement already satisfied: srsly<3.0.0,>=2.4.1 in /opt/anaconda3/lib/python3.8/site-packages (from spacy==3.0.7->docanalysis) (2.4.1)\n",
      "Requirement already satisfied: wasabi<1.1.0,>=0.8.1 in /opt/anaconda3/lib/python3.8/site-packages (from spacy==3.0.7->docanalysis) (0.8.2)\n",
      "Requirement already satisfied: pydantic!=1.8,!=1.8.1,<1.9.0,>=1.7.4 in /opt/anaconda3/lib/python3.8/site-packages (from spacy==3.0.7->docanalysis) (1.7.4)\n",
      "Requirement already satisfied: thinc<8.1.0,>=8.0.3 in /opt/anaconda3/lib/python3.8/site-packages (from spacy==3.0.7->docanalysis) (8.0.7)\n",
      "Requirement already satisfied: blis<0.8.0,>=0.4.0 in /opt/anaconda3/lib/python3.8/site-packages (from spacy==3.0.7->docanalysis) (0.7.4)\n",
      "Requirement already satisfied: cymem<2.1.0,>=2.0.2 in /opt/anaconda3/lib/python3.8/site-packages (from spacy==3.0.7->docanalysis) (2.0.5)\n",
      "Requirement already satisfied: typer<0.4.0,>=0.3.0 in /opt/anaconda3/lib/python3.8/site-packages (from spacy==3.0.7->docanalysis) (0.3.2)\n",
      "Requirement already satisfied: catalogue<2.1.0,>=2.0.4 in /opt/anaconda3/lib/python3.8/site-packages (from spacy==3.0.7->docanalysis) (2.0.4)\n",
      "Requirement already satisfied: spacy-legacy<3.1.0,>=3.0.5 in /opt/anaconda3/lib/python3.8/site-packages (from spacy==3.0.7->docanalysis) (3.0.7)\n",
      "Requirement already satisfied: xmltodict in /opt/anaconda3/lib/python3.8/site-packages (from pygetpapers->docanalysis) (0.12.0)\n",
      "Requirement already satisfied: dict2xml in /opt/anaconda3/lib/python3.8/site-packages (from pygetpapers->docanalysis) (1.7.0)\n",
      "Requirement already satisfied: arxiv in /opt/anaconda3/lib/python3.8/site-packages (from pygetpapers->docanalysis) (1.2.0)\n",
      "Requirement already satisfied: habanero in /opt/anaconda3/lib/python3.8/site-packages (from pygetpapers->docanalysis) (0.7.4)\n"
     ]
    },
    {
     "name": "stdout",
     "output_type": "stream",
     "text": [
      "Requirement already satisfied: pybind11<2.6.2 in /opt/anaconda3/lib/python3.8/site-packages (from nmslib>=1.7.3.6->scispacy==0.4.0->docanalysis) (2.6.1)\n",
      "Requirement already satisfied: pyparsing!=3.0.5,>=2.0.2 in /opt/anaconda3/lib/python3.8/site-packages (from packaging->pytest==6.2.5->docanalysis) (3.0.6)\n",
      "Requirement already satisfied: smart-open<6.0.0,>=5.0.0 in /opt/anaconda3/lib/python3.8/site-packages (from pathy>=0.3.5->spacy==3.0.7->docanalysis) (5.1.0)\n",
      "Requirement already satisfied: six>=1.5 in /opt/anaconda3/lib/python3.8/site-packages (from python-dateutil>=2.7.3->pandas==1.3.4->docanalysis) (1.16.0)\n",
      "Requirement already satisfied: urllib3<1.27,>=1.21.1 in /opt/anaconda3/lib/python3.8/site-packages (from requests<3.0.0,>=2.0.0->scispacy==0.4.0->docanalysis) (1.26.7)\n",
      "Requirement already satisfied: charset-normalizer~=2.0.0 in /opt/anaconda3/lib/python3.8/site-packages (from requests<3.0.0,>=2.0.0->scispacy==0.4.0->docanalysis) (2.0.10)\n",
      "Requirement already satisfied: certifi>=2017.4.17 in /opt/anaconda3/lib/python3.8/site-packages (from requests<3.0.0,>=2.0.0->scispacy==0.4.0->docanalysis) (2021.10.8)\n",
      "Requirement already satisfied: idna<4,>=2.5 in /opt/anaconda3/lib/python3.8/site-packages (from requests<3.0.0,>=2.0.0->scispacy==0.4.0->docanalysis) (3.3)\n",
      "Requirement already satisfied: scipy>=1.3.2 in /opt/anaconda3/lib/python3.8/site-packages (from scikit-learn>=0.20.3->scispacy==0.4.0->docanalysis) (1.5.0)\n",
      "Requirement already satisfied: threadpoolctl>=2.0.0 in /opt/anaconda3/lib/python3.8/site-packages (from scikit-learn>=0.20.3->scispacy==0.4.0->docanalysis) (2.1.0)\n",
      "Requirement already satisfied: feedparser in /opt/anaconda3/lib/python3.8/site-packages (from arxiv->pygetpapers->docanalysis) (6.0.8)\n",
      "Requirement already satisfied: MarkupSafe>=0.23 in /opt/anaconda3/lib/python3.8/site-packages (from jinja2->spacy==3.0.7->docanalysis) (1.1.1)\n",
      "Requirement already satisfied: cycler>=0.10 in /opt/anaconda3/lib/python3.8/site-packages (from matplotlib->py4ami==0.0.16->docanalysis) (0.11.0)\n",
      "Requirement already satisfied: kiwisolver>=1.0.1 in /opt/anaconda3/lib/python3.8/site-packages (from matplotlib->py4ami==0.0.16->docanalysis) (1.3.2)\n",
      "Requirement already satisfied: fonttools>=4.22.0 in /opt/anaconda3/lib/python3.8/site-packages (from matplotlib->py4ami==0.0.16->docanalysis) (4.28.5)\n",
      "Requirement already satisfied: chardet in /opt/anaconda3/lib/python3.8/site-packages (from pdfminer3->py4ami==0.0.16->docanalysis) (4.0.0)\n",
      "Requirement already satisfied: pycryptodome in /opt/anaconda3/lib/python3.8/site-packages (from pdfminer3->py4ami==0.0.16->docanalysis) (3.12.0)\n",
      "Requirement already satisfied: sortedcontainers in /opt/anaconda3/lib/python3.8/site-packages (from pdfminer3->py4ami==0.0.16->docanalysis) (2.4.0)\n",
      "Requirement already satisfied: rdflib>=4.0 in /opt/anaconda3/lib/python3.8/site-packages (from SPARQLWrapper->py4ami==0.0.16->docanalysis) (6.1.1)\n",
      "Requirement already satisfied: isodate in /opt/anaconda3/lib/python3.8/site-packages (from rdflib>=4.0->SPARQLWrapper->py4ami==0.0.16->docanalysis) (0.6.1)\n",
      "Requirement already satisfied: sgmllib3k in /opt/anaconda3/lib/python3.8/site-packages (from feedparser->arxiv->pygetpapers->docanalysis) (1.0.0)\n",
      "Requirement already satisfied: wordcloud in /opt/anaconda3/lib/python3.8/site-packages (1.8.2.2)\n",
      "Requirement already satisfied: matplotlib in /opt/anaconda3/lib/python3.8/site-packages (from wordcloud) (3.5.1)\n",
      "Requirement already satisfied: numpy>=1.6.1 in /opt/anaconda3/lib/python3.8/site-packages (from wordcloud) (1.22.0)\n",
      "Requirement already satisfied: pillow in /opt/anaconda3/lib/python3.8/site-packages (from wordcloud) (9.1.1)\n",
      "Requirement already satisfied: python-dateutil>=2.7 in /opt/anaconda3/lib/python3.8/site-packages (from matplotlib->wordcloud) (2.8.2)\n",
      "Requirement already satisfied: packaging>=20.0 in /opt/anaconda3/lib/python3.8/site-packages (from matplotlib->wordcloud) (21.3)\n",
      "Requirement already satisfied: pyparsing>=2.2.1 in /opt/anaconda3/lib/python3.8/site-packages (from matplotlib->wordcloud) (3.0.6)\n",
      "Requirement already satisfied: fonttools>=4.22.0 in /opt/anaconda3/lib/python3.8/site-packages (from matplotlib->wordcloud) (4.28.5)\n",
      "Requirement already satisfied: kiwisolver>=1.0.1 in /opt/anaconda3/lib/python3.8/site-packages (from matplotlib->wordcloud) (1.3.2)\n",
      "Requirement already satisfied: cycler>=0.10 in /opt/anaconda3/lib/python3.8/site-packages (from matplotlib->wordcloud) (0.11.0)\n",
      "Requirement already satisfied: six>=1.5 in /opt/anaconda3/lib/python3.8/site-packages (from python-dateutil>=2.7->matplotlib->wordcloud) (1.16.0)\n",
      "/opt/anaconda3/lib/python3.8/site-packages/_distutils_hack/__init__.py:36: UserWarning: Setuptools is replacing distutils.\n",
      "  warnings.warn(\"Setuptools is replacing distutils.\")\n",
      "usage: docanalysis [-h] [--run_pygetpapers] [--make_section] [-q QUERY]\n",
      "                   [-k HITS] [--project_name PROJECT_NAME]\n",
      "                   [-d [DICTIONARY [DICTIONARY ...]]] [-o OUTPUT]\n",
      "                   [--make_ami_dict MAKE_AMI_DICT]\n",
      "                   [--search_section [SEARCH_SECTION [SEARCH_SECTION ...]]]\n",
      "                   [--entities [ENTITIES [ENTITIES ...]]]\n",
      "                   [--spacy_model SPACY_MODEL] [--html HTML]\n",
      "                   [--synonyms SYNONYMS] [--make_json MAKE_JSON]\n",
      "                   [--search_html] [--extract_abb EXTRACT_ABB] [-l LOGLEVEL]\n",
      "                   [-f LOGFILE]\n",
      "\n",
      "Welcome to docanalysis version 0.1.9. -h or --help for help\n",
      "\n",
      "optional arguments:\n",
      "  -h, --help            show this help message and exit\n",
      "  --run_pygetpapers     [Command] downloads papers from EuropePMC via\n",
      "                        pygetpapers\n",
      "  --make_section        [Command] makes sections; requires a fulltext.xml in\n",
      "                        CTree directories\n",
      "  -q QUERY, --query QUERY\n",
      "                        [pygetpapers] query string\n",
      "  -k HITS, --hits HITS  [pygetpapers] number of papers to download\n",
      "  --project_name PROJECT_NAME\n",
      "                        CProject directory name\n",
      "  -d [DICTIONARY [DICTIONARY ...]], --dictionary [DICTIONARY [DICTIONARY ...]]\n",
      "                        [file name/url] existing ami dictionary to annotate\n",
      "                        sentences or support supervised entity extraction\n",
      "  -o OUTPUT, --output OUTPUT\n",
      "                        outputs csv with sentences/terms\n",
      "  --make_ami_dict MAKE_AMI_DICT\n",
      "                        [Command] title for ami-dict. Makes ami-dict of all\n",
      "                        extracted entities; works only with spacy\n",
      "  --search_section [SEARCH_SECTION [SEARCH_SECTION ...]]\n",
      "                        [NER/dictionary search] section(s) to annotate. Choose\n",
      "                        from: ALL, ACK, AFF, AUT, CON, DIS, ETH, FIG, INT,\n",
      "                        KEY, MET, RES, TAB, TIL. Defaults to ALL\n",
      "  --entities [ENTITIES [ENTITIES ...]]\n",
      "                        [NER] entities to extract. Default (ALL). Common\n",
      "                        entities SpaCy: GPE, LANGUAGE, ORG, PERSON (for\n",
      "                        additional ones check: ); SciSpaCy: CHEMICAL, DISEASE\n",
      "  --spacy_model SPACY_MODEL\n",
      "                        [NER] optional. Choose between spacy or scispacy\n",
      "                        models. Defaults to spacy\n",
      "  --html HTML           outputs html with sentences/terms\n",
      "  --synonyms SYNONYMS   annotate the corpus/sections with synonyms from ami-\n",
      "                        dict\n",
      "  --make_json MAKE_JSON\n",
      "                        outputs json with sentences/terms\n",
      "  --search_html         searches html documents (mainly IPCC)\n",
      "  --extract_abb EXTRACT_ABB\n",
      "                        [Command] title for abb-ami-dict. Extracts\n",
      "                        abbreviations and expansions; makes ami-dict of all\n",
      "                        extracted entities\n",
      "  -l LOGLEVEL, --loglevel LOGLEVEL\n",
      "                        provide logging level. Example --log warning\n",
      "                        <<info,warning,debug,error,critical>>, default='info'\n",
      "  -f LOGFILE, --logfile LOGFILE\n",
      "                        saves log to specified file in output directory as\n",
      "                        well as printing to terminal\n"
     ]
    }
   ],
   "source": [
    "FOLDER = 'ipcc/'\n",
    "FOLDER = 'pmcid/'\n",
    "if FOLDER == 'pmcid':\n",
    "    MAKE_DICT = True\n",
    "\n",
    "\n",
    "\n",
    "!pip install wikipedia #to scrape wikipedia for climate-related terms\n",
    "!pip install docanalysis # Semantic Climate's tool to search using existing dictionaries and create new ones from scratch\n",
    "!pip install wordcloud # to represent search results as Wordclouds\n",
    "!docanalysis --help"
   ]
  },
  {
   "cell_type": "markdown",
   "metadata": {
    "id": "rJ5uGYOVzS3Y"
   },
   "source": [
    "# Getting started\n",
    "This notebook should appear in your browser...\n",
    "\n",
    "This operation loads all the software into Google Colabs automatically\n",
    "\n",
    "## Install packages"
   ]
  },
  {
   "cell_type": "markdown",
   "metadata": {
    "id": "hCGLKDagmasR"
   },
   "source": [
    "This Colab Notebook is a part of Post Hackthon Pitch to SDG Accelerator, Geneva. Make a copy of it in your Drive and run it. \n",
    "\n",
    "- [Presentation Video](https://youtu.be/0MGXic-uEQY): 12 min. video on YouTube\n",
    "- [Slides (PPT)](https://github.com/petermr/semanticClimate/blob/main/outreach/piaget_hackathon/post_hackathon_pitch_v3.pptx)"
   ]
  },
  {
   "cell_type": "code",
   "execution_count": 2,
   "metadata": {
    "id": "ox65FVLjXUDi"
   },
   "outputs": [],
   "source": [
    "# importing all packages\n",
    "from pprint import pprint\n",
    "import wikipedia\n",
    "import urllib\n",
    "from bs4 import BeautifulSoup # to parse html and pull out text\n",
    "import re\n",
    "import requests\n",
    "import os\n",
    "from lxml import etree # to create dictionaries \n",
    "from collections import Counter\n",
    "import json\n",
    "from wordcloud import WordCloud"
   ]
  },
  {
   "cell_type": "markdown",
   "metadata": {
    "id": "G8wb4BZcn01U"
   },
   "source": [
    "## Get HTML\n",
    "\n",
    "[`pyami`](https://github.com/petermr/pyami) converts PDF IPCC Reports into HTMLs that we store in our SemanticClimate GitHub Repository. You can find them, [here](https://github.com/petermr/semanticClimate/tree/main/ipcc/ar6/wg3)."
   ]
  },
  {
   "cell_type": "code",
   "execution_count": 11,
   "metadata": {
    "id": "3EHTlRwzpJ0U"
   },
   "outputs": [
    {
     "name": "stdout",
     "output_type": "stream",
     "text": [
      " ('PMC4391421', 'https://raw.githubusercontent.com/petermr/CEVOpen/master/searches/oil186/PMC4391421/scholarly.html')\n",
      " ('PMC5080681', 'https://raw.githubusercontent.com/petermr/CEVOpen/master/searches/oil186/PMC5080681/scholarly.html')\n",
      " ('PMC5132230', 'https://raw.githubusercontent.com/petermr/CEVOpen/master/searches/oil186/PMC5132230/scholarly.html')\n",
      "content <html xmlns=\"http://www.w3.org/1999/xhtml\"><head> <style type=\"text/css\">\n",
      "         \t     \t\t \n",
      "         \t    a                          {background : #ffffff; }\n",
      "         \t    article                    {border-style : dotted; border-width : 2px; }\n",
      "         \t\t \t\n",
      "         \t\t \tdiv                        {background : #ffffcc;}\n",
      "         \t\t \tdiv.abstract-title         {font-weight : bold ; font-size : 16pt;}\n",
      "         \t\t \tdiv.ack                    {border-style : solid ; border-color : red; margin\n",
      "         : 2em; }\n",
      "         \t\t \tdiv.article-meta           {border-style : solid; border-width : 1 pt; margin\n",
      "         1em;}\n",
      "         \t\t \tdiv.boxed-text             {margin : 5em; border-style : solid;}\n",
      "         \t\t \tdiv.contrib-group          {margin : 1em; }\n",
      "         \t\t \tdiv.fig                    {border-style : solid; border-width : 2px; margin :\n",
      "         2em; }\n",
      "         \t\t \tdiv.funding                {font-weight : bold ; font-size : 16pt;}\n",
      "         \t\t \tdiv.given-names            {font-style : italic;}\n",
      "         \t\t \tdiv.intro                  {border-style : inset; margin : 5px;}\n",
      "         \t\t \tdiv.introduction           {border-style : inset; margin : 5px;}\n",
      "         \t\t \tdiv.journal-meta           {border-style : solid; border-width : 1 pt; margin\n",
      "         1em;}\n",
      "         \t\t \tdiv.journal-title-group    {background : #ffeeee;}\n",
      "         \t\t \tdiv.article-title          {font-weight : bold ; font-size : 18pt;}\n",
      "         \t\t \tdiv.kwd                    {font-style : italic}\n",
      "         \t\t \tdiv.meta-name              {font-weight : bold ; font-size : 16pt;}\n",
      "         \t\t \tdiv.name                   {font-weight : bold;}\n",
      "         \t\t \tdiv.alt-title              {font-style : italic; font-size : 12px;}\n",
      "         \t\t \t\n",
      "         \t\t \tdiv.sec                    {border : 2px; margin 5px; padding 2px;}\n",
      "         \t\t \tdiv.title                  {font-family : courier; font-weight : bold;\n",
      "         \t\t \t                            font-size : 16pt; margin : 5px;}\n",
      "         \t\t \t\n",
      "         \t\t \tdiv.materials_methods      {border-style : double; margin : 5px; }\n",
      "         \t\t \tdiv.methods                {border-style : double; margin : 5px; }\n",
      "         \t\t \t\n",
      "         \t\t \tdiv.results                {border-style : solid; margin : 5px;}\n",
      "         \t\t \tdiv.background             {border-style : dotted; margin : 5px;}\n",
      "         \t\t \t\n",
      "         \t\t \tdiv.discussion             {border-style : groove; margin : 5px;}\n",
      "         \t\t \tdiv.conclusion             {border-style : ridge; margin : 5px;}\n",
      "         \t\t \tdiv.conclusions             {border-style : ridge; margin : 5px;}\n",
      "         \t\t \tdiv.supplementary-material {border-style : inset; margin : 5px;}\n",
      "         \t\t \tdiv.abbreviations          {border-style : double; border-color : red; margin\n",
      "         : 5px;}\n",
      "         \t\t \tdiv.competinginterests     {border-style : double; border-color : blue; margin\n",
      "         : 5px;}\n",
      "         \t\t \tdiv.acknowledgements       {border-style : double; border-color : green; margin\n",
      "         : 5px;}\n",
      "         \t\t \tdiv.authors_contributions   {border-style : double; border-color : purple; margin\n",
      "         : 5px;}\n",
      "         \t\t \t\n",
      "         \t\t \tdiv.publisher              {border-style : outset; margin : 5px;}\n",
      "         \t\t \tdiv.fn-type-conflict       {background : #f88; }\n",
      "         \t\t \tdiv.fn-type-con            {background : #ddf; }\n",
      "         \t\t \tdiv.fn-type-other          {background : #ddd; }\n",
      "         \t\t \t\n",
      "         \t\t \tdiv.unknown                {background : #ffd;\n",
      "         \t\t\t\t\t\t\t\t\t \t  border-style : solid;\n",
      "         \t\t\t\t\t\t\t\t\t \t  border-width : 1px;\n",
      "         \t\t\t\t\t\t\t\t\t \t  padding : 2 px;}\n",
      "         \t\t \t  \n",
      "         \t    table                      {background : #ffffdd;}\n",
      "         \t\t \ttr                         {background : #ddddff; padding : 1px;}\n",
      "         \t\t \t\n",
      "         \t\t \tspan                       {background : #ffcccc;}\n",
      "         \t\t \t\n",
      "         \t\t \tspan.citation-author       {font-family : helvetica; background : #ffeeee;}\n",
      "         \t\t \tspan.collab                {background : #ddffff; }\n",
      "         \t\t \tspan.comment               {font-family : courier; font-size : 6px; background\n",
      "         : #ffaaff;}\n",
      "         \t\t \tspan.contrib               {background : #ffffff;}\n",
      "         \t\t \tspan.corresp               {background : #ddffdd; }\n",
      "         \t\t \tspan.doi                   {background : #ffffff;}\n",
      "         \t\t \tspan.email                 {font-family : courier; }\n",
      "         \t\t \tspan.etal                  {font-style : italic;}\n",
      "         \t\t \tspan.fpage                 {font-family : courier;}\n",
      "         \t\t \tspan.given-names           {background : #ffffff;}\n",
      "         \t\t \tspan.iso-abbrev            {background : #ffffff;}\n",
      "         \t\t \tspan.issn-epub             {background : #ffffff;}\n",
      "         \t\t \tspan.issn-ppub             {background : #ffffff;}\n",
      "         \t\t \tspan.journal-title         {background : #ffffff;}\n",
      "         \t\t \tspan.lpage                 {font-family : courier;}\n",
      "         \t\t \tspan.mixed-article-title   {font-style : italic ;}\n",
      "         \t\t \tspan.nlm-ta                {background : #ffffff;}\n",
      "         \t\t \tspan.pmc                   {background : #ffffff;}\n",
      "         \t\t \tspan.pmcid                 {background : #ffffff;}\n",
      "         \t\t \tspan.pmid                  {background : #ffffff;}\n",
      "         \t\t \tspan.publisher             {background : #ffffff;}\n",
      "         \t\t \tspan.publisher-id          {background : #ffffff;}\n",
      "         \t\t \tspan.publisher-name        {background : #ffffff;}\n",
      "         \t\t \tspan.source                {background : #ffffff;}\n",
      "         \t\t \tspan.subject               {background : #ffffff;}\n",
      "         \t\t \tspan.surname               {background : #ffffff;}\n",
      "         \t\t \tspan.volume                {font-family : courier; font-weight : bold;}\n",
      "         \t\t \tspan.year                  {font-family : courier ; font-style : italic;}\n",
      "         \t\t\t\n",
      "      </style> </head> <body> <div class=\"front\" title=\"front\"> <div class=\"journal-meta\" tagx=\"journal-meta\" title=\"journal-meta\"> <span class=\"nlm-ta\" title=\"nlm-ta\">J Med Life</span> <span class=\"iso-abbrev\" title=\"iso-abbrev\">J Med Life</span> <span class=\"publisher-id\" title=\"publisher-id\">JMedLife</span> <div class=\"journal-title-group\" tagx=\"journal-title-group\" title=\"journal-title-group\"> <span class=\"journal-title\" tagx=\"journal-title\" title=\"journal-title\">Journal of Medicine and Life</span> </div> <span class=\"issn-ppub\" tagx=\"issn\" title=\"issn-ppub\">1844-122X</span> <span class=\"issn-epub\" tagx=\"issn\" title=\"issn-epub\">1844-3117</span> <div class=\"publisher\" tagx=\"publisher\" title=\"publisher\"> <span class=\"publisher-name\" tagx=\"publisher-name\" title=\"publisher-name\">Carol Davila University Press</span> <span class=\"publisher-loc\" tagx=\"publisher-loc\" title=\"publisher-loc\">Romania</span> </div> </div> <div class=\"article-meta\" tagx=\"article-meta\" title=\"article-meta\"> <span class=\"pmcid\" title=\"pmcid\"> pmcid: <a href=\"http://www.ncbi.nlm.nih.gov/pubmed/4391421\">4391421</a> </span> <span class=\"publisher-id\" title=\"publisher-id\">JMedLife-07-56</span> <div class=\"article-categories\" title=\"article-categories\">\n",
      ": <span class=\"subject\" title=\"subject\">General Articles</span> </div> <div class=\"title-group\"> <div class=\"article-title\" title=\"article-title\">\n",
      "Thymus vulgaris essential oil: chemical composition and antimicrobial activity </div> </div> <div class=\"contrib-group\" title=\"contrib-group\"> <span class=\"contrib\" title=\"contrib\"> <span class=\"name\" tagx=\"name\" title=\"name\"> <span class=\"surname\" tagx=\"surname\" title=\"surname\">Borugă</span> <span class=\"given-names\" tagx=\"given-names\" title=\"given-names\">O</span> </span> <a href=\"#A1\">*</a> </span> <span class=\"contrib\" title=\"contrib\"> <span class=\"name\" tagx=\"name\" title=\"name\"> <span class=\"surname\" tagx=\"surname\" title=\"surname\">Jianu</span> <span class=\"given-names\" tagx=\"given-names\" title=\"given-names\">C</span> </span> <a href=\"#A2\">**</a> </span> <span class=\"contrib\" title=\"contrib\"> <span class=\"name\" tagx=\"name\" title=\"name\"> <span class=\"surname\" tagx=\"surname\" title=\"surname\">Mişcă</span> <span class=\"given-names\" tagx=\"given-names\" title=\"given-names\">C</span> </span> <a href=\"#A2\">**</a> </span> <span class=\"contrib\" title=\"contrib\"> <span class=\"name\" tagx=\"name\" title=\"name\"> <span class=\"surname\" tagx=\"surname\" title=\"surname\">Goleţ</span> <span class=\"given-names\" tagx=\"given-names\" title=\"given-names\">I</span> </span> <a href=\"#A3\">***</a> </span> <span class=\"contrib\" title=\"contrib\"> <span class=\"name\" tagx=\"name\" title=\"name\"> <span class=\"surname\" tagx=\"surname\" title=\"surname\">Gruia</span> <span class=\"given-names\" tagx=\"given-names\" title=\"given-names\">AT</span> </span> <a href=\"#A4\">****</a> </span> <span class=\"contrib\" title=\"contrib\"> <span class=\"name\" tagx=\"name\" title=\"name\"> <span class=\"surname\" tagx=\"surname\" title=\"surname\">Horhat</span> <span class=\"given-names\" tagx=\"given-names\" title=\"given-names\">FG</span> </span> <a href=\"#A5\">*****</a> </span> </div> <span class=\"citation_author_institution\" id=\"A1\">[*], </span> <span class=\"citation_author_institution\" id=\"A2\">[**], </span> <span class=\"citation_author_institution\" id=\"A3\">[***], </span> <span class=\"citation_author_institution\" id=\"A4\">[****], </span> <span class=\"citation_author_institution\" id=\"A5\">[*****], </span> <div class=\"author-notes\" title=\"author-notes\"> <div class=\"corresp\" title=\"corresp\"> <b>Correspondence to:</b>Călin Jianu, MD, Department of Food Science, Faculty of Food Processing Technology, Banat's University of Agricultural Sciences and Veterinary Medicine 119 Calea Aradului, RO-300645, Timisoara, Romania Mobile phone: 0040722632199, E-mail: calin.jianu@gmail.com </div> </div> <span class=\"pub-date-ppub\" title=\"pub-date-ppub\">ppub: <span>2014</span> </span> <span class=\"volume\" tagx=\"volume\" title=\"volume\">7</span> <span class=\"issue\" tagx=\"issue\" title=\"issue\">Spec Iss 3</span> <span class=\"fpage\" tagx=\"fpage\" title=\"fpage\">56</span> <span class=\"lpage\" tagx=\"lpage\" title=\"lpage\">60</span> <div class=\"permissions\"> <span class=\"copyright\" title=\"copyright\">(C) , <span class=\"copyright-year\" tagx=\"copyright-year\" title=\"copyright-year\">2014</span> </span> <span class=\"license\" title=\"license\"> <span class=\"license-p\" title=\"license-p\">This is an open-access article distributed under the terms of the Creative Commons Attribution License, which permits unrestricted use, distribution, and reproduction in any medium, provided the original work is properly cited. </span> </span> </div> <div class=\"abstract\" title=\"abstract\"> <div class=\"abstract-title\" title=\"abstract-title\">\n",
      "Abstract</div> <p>The study was designed to determine the chemical composition and antimicrobial properties of the essential oil of Thymus vulgaris cultivated in Romania. The essential oil was isolated in a yield of 1.25% by steam distillation from the aerial part of the plant and subsequently analyzed by GC-MS. The major components were p-cymene (8.41%), γ-terpinene (30.90%) and thymol (47.59%). Its antimicrobial activity was evaluated on 7 common food-related bacteria and fungus by using the disk diffusion method. The results demonstrate that the Thymus vulgaris essential oil tested possesses strong antimicrobial properties, and may in the future represent a new source of natural antiseptics with applications in the pharmaceutical and food industry. </p> </div> <div class=\"kwd-group\"> <div class=\"kwd\" title=\"kwd\">\n",
      "thyme</div> <div class=\"kwd\" title=\"kwd\">\n",
      "essential oil</div> <div class=\"kwd\" title=\"kwd\">\n",
      "GC-MS analysis</div> <div class=\"kwd\" title=\"kwd\">\n",
      "antimicrobial activity</div> </div> </div> </div> <div class=\"body\" title=\"body\"> <div class=\"intro\" title=\"intro\"> <div class=\"title\" tagx=\"title\" title=\"title\">\n",
      "Introduction</div> <p>The genus Thymus, member of the Lamiaceae family, contains about 400 species of perennial aromatic, evergreen or semi-evergreen herbaceous plants with many subspecies, varieties, subvarieties and forms [ <b> <a href=\"#R1\">1</a> </b>]. In Romania, the Thymus genus contains one species cultivated as aromatic plant (Thymus vulgaris) and other 18 wild species [ <b> <a href=\"#R2\">2</a> </b>]. T. vulgaris (thyme), locally known as \"cimbru\", is widely used in the Romanian folk medicine for its expectorant, antitussive, antibroncholitic, antispasmodic, anthelmintic, carminative and diuretic properties. </p> <p>Various studies have aimed to investigate the chemical composition and biological properties of the T. vulgaris essential oil (EO). According to European Pharmacopoeia 5.0 (Ph. Eur. 5.0) [ <b> <a href=\"#R3\">3</a> </b>], the minimum content of EO in T. vulgaris is 12 mL/kg, but the chemical composition shows variations, six chemotypes being mainly reported, namely geraniol, linalool, gamma-terpineol, carvacrol, thymol and trans-thujan-4-ol/terpinen-4-ol [ <b> <a href=\"#R4\">4</a> </b>, <b> <a href=\"#R5\">5</a> </b>]. Both the isolation yield and the chemical composition of the EOs are dependent on a number of factors, such as the environment, growth region and cultivation practices [ <b> <a href=\"#R6\">6</a> </b>]. In addition to the flavoring properties determined by the constitutive active ingredients, the thyme EO exhibits significant antimicrobial activity [ <b> <a href=\"#R4\">4</a> </b>, <b> <a href=\"#R7\">7</a> </b>- <b> <a href=\"#R9\">9</a> </b>] as well as strong antioxidant properties [ <b> <a href=\"#R2\">2</a> </b>, <b> <a href=\"#R8\">8</a> </b>]. </p> <p>The aim of this study is to determine the chemical composition together with the antimicrobial properties of the EO of T. vulgaris cultivated in Romania, in order to identify new sources of natural antiseptics with applications in the pharmaceutical and food industry. </p> </div> <div class=\"materials_methods\" title=\"materials|methods\"> <div class=\"title\" tagx=\"title\" title=\"title\">\n",
      "Materials and methods</div> <p> <b>Raw material</b>. Thyme was harvested during the flowering season (July 2012) from the area around the Broşteni commune – Mehedinţi County, Romania. The plant material was dried in well-ventilated areas, sheltered from direct sunlight and then stored in double-layered paper bags at temperatures of 3-5°C until processing. A voucher specimen (V.FPT-451) was deposited in the Herbarium of the Faculty of Pharmacy, \"Victor Babeș\" University of Medicine and Pharmacy, Timișoara, Romania. </p> <p> <b>Isolation of essential oils</b>. The EO was obtained by hydrodistillation, according to Ph. Eur. 5.0 [ <b> <a href=\"#R3\">3</a> </b>], by using a modified Clevenger apparatus (with the EO collection area cooled to prevent the emergence of artifacts). The EO was dried on anhydrous sodium sulfate (Sigma-Aldrich Chemie GmbH) and stored in a tightly sealed brown glass bottle at 0-4°C for testing. </p> <p> <b>Gas chromatography-mass spectrometry</b>. Samples were analyzed by gas chromatography using a HP6890 instrument coupled with a HP 5973 mass spectrometer. The gas chromatograph is equipped with a split-splitless injector and a Factor FourTM VF-35ms 5% fenil-methylpolysiloxane, 30 m, 0.25 mm, 0.25 μm film thickness capillary column. Gas chromatography conditions include a temperature range of 50 to 250°C at 40°C/min, with a solvent delay of 5 min. The injector was maintained at a temperature of 250°C. The inert gas was helium at a flow of 1.0 mL/min, and the injected volume in the splitless mode was 1 μL. The MS conditions were the following: ionization energy, 70 eV; quadrupole temperature, 100°C; scanning velocity, 1.6 scan/s; weight range, 40-500 amu. </p> <p>The percent composition of the volatile compounds was calculated. The qualitative analysis was based on the percent area of each peak of the sample compounds. The mass spectrum of each compound was compared with the mass spectrum from the NIST 98 spectrum library (USA National Institute of Science and Technology software). </p> <p> <b>Determination of antimicrobial activity</b>. Thyme EO was tested on 7 common food-related bacteria and fungus: Staphylococcus aureus (ATCC 25923), Pseudomonas aeruginosa (ATCC 27853), Salmonella typhimurium (ATCC 14028), Escherichia coli (ATCC 25922), Klebsiella pneumoniae (ATCC 13882), Enterococcus faecalis (ATCC 29212) and Candida albicans (ATCC 10231), using the disk diffusion method as previously described [ <b> <a href=\"#R10\">10</a> </b>]. Briefly, a suspension of the tested microorganism (10^6 cells/mL-1) was spread on the solid media plates (Mueller-Hinton agar for bacteria and Sabouraud cloramphenicol agar for fungi). The paper discs (Whatman No 1 filter paper - 6 mm diameter) were impregnated with 5, 10, 15 and 20µL EO and placed on the inoculated agar. The plates inoculated with bacterial strains were incubated for 24 h at 37°C and 48 h at 30°C for fungi, respectively. As positive controls, ciprofloxacin (30 µg/disk) and cephalexin (10 µg/disk) were used for bacterial strains and fluconazole (10 µg/disk) for fungi. After incubation, the diameter of the zone of inhibition was measured in millimeters. Each test was performed in triplicate on at least three separate experiments. </p> <p> <b>Statistical analysis</b>. The statistical analysis was performed by using SPSS Version 21 (IBM Corp., NY). The mean inhibition zone for each group of nine observations was compared with the value of the disc diameter (6 mm) using the t-test. The GLM procedure was used to conduct a two-way analysis of variance (ANOVA) on the inhibition zones. The type of microorganism and amount of essential oil were used as factors in the full factorial model. Post-hoc tests for each amount of essential oil were conducted by using Tukey’s HSD method, in order to compare the effect on different types of microorganisms. </p> </div> <div class=\"resultsanddiscussion\" title=\"sec\"> <div class=\"title\" tagx=\"title\" title=\"title\">\n",
      "Results and Discussion</div> <p>The isolation yield was 1.25% (v/w), based on dry plant material and confirmed that the plant analyzed meets the requirements of pharmaceutical quality for thyme as EO source [ <b> <a href=\"#R3\">3</a> </b>]. The chemical composition determined by GC/ MS is presented in <b> <a href=\"#T1\">Table 1</a> </b>. Fifteen components representing 99.91% of the total detected constituents were identified. The major components were p-cymene (8.41%), γ-terpinene (30.90%) and thymol (47.59%), which suggests that the EO analyzed belongs to the thymol chemotype in agreement with those previously reported in Romania [ <b> <a href=\"#R2\">2</a> </b>]. The other components were present in a total amount of less than 13.01%. The chemical composition of the EO analyzed by us is very different from that previously reported in Morocco and Spain for the same species of thyme [ <b> <a href=\"#R11\">11</a> </b>, <b> <a href=\"#R12\">12</a> </b>]. Similar studies in Poland, Iran, Spain and Italy, respectively, reported as major compounds in the T. vulgaris EO p-cymene, γ-terpinene and thymol [ <b> <a href=\"#R4\">4</a> </b>, <b> <a href=\"#R13\">13</a> </b>- <b> <a href=\"#R15\">15</a> </b>]. These differences can be attributed to a large extent to the different chemotypes mentioned above [ <b> <a href=\"#R4\">4</a> </b>, <b> <a href=\"#R5\">5</a> </b>, <b> <a href=\"#R13\">13</a> </b>]. </p> <p>The antimicrobial activity of thyme oil against 7 common food-related bacteria and fungus tested is presented in <b> <a href=\"#T2\">Table 2</a> </b>. The null hypothesis that the inhibition zone is equal to the disc diameter (6 mm) was rejected for each microorganism at every amount of essential oil with a high significance level (p = 0.00). The main finding of the ANOVA analysis is a strong interaction effect between the type of microorganism and the amount of essential oil (p = 0.00). The highly significant interaction effect adds difficulty in drawing general conclusions on the main effects, even if the two factors are also highly significant (p = 0.00). For example, K. pneumoniae has the highest inhibition zone overall but for the amount of 20 [μL], where E. coli and S. typhimurium have higher values. In order to compare more thoroughly the effect of T. vulgaris on each microorganism ( <b> <a href=\"#F1\">Fig. 1</a> </b>), the results of multiple comparisons, at each oil amount, has to be considered. Tukey’s HSD test reveals that the only microorganisms with non-significant differences in the antimicrobial effect are S. typhimurium and E. coli at all oil amounts, and S. typhimurium, E. coli and C. albicans at 10 [μL]. The observed p-value for the pairwise differences in the above-mentioned cases does not pass acceptable significance levels, being larger than 0.4. All the other pairwise differences are highly significant (p = 0.00). </p> <div class=\"table-wrap_UNKNOWN\" id=\"T1\" position=\"float\"> <span class=\"label\" tagx=\"label\" title=\"label\">Table 1</span>  <p>Chemical composition of thyme EO</p>  <table frame=\"hsides\" rules=\"groups\"> <tbody> <tr> <th align=\"center\" rowspan=\"1\" colspan=\"1\">No.</th> <th align=\"center\" rowspan=\"1\" colspan=\"1\">RT (min)</th> <th align=\"center\" rowspan=\"1\" colspan=\"1\">Area % of total</th> <th align=\"center\" rowspan=\"1\" colspan=\"1\">Constituents*</th> </tr> <tr> <td align=\"center\" rowspan=\"1\" colspan=\"1\">1</td> <td align=\"center\" rowspan=\"1\" colspan=\"1\">5.39</td> <td align=\"center\" rowspan=\"1\" colspan=\"1\">1.06</td> <td align=\"center\" rowspan=\"1\" colspan=\"1\">alpha-Thujene</td> </tr> <tr> <td align=\"center\" rowspan=\"1\" colspan=\"1\">2</td> <td align=\"center\" rowspan=\"1\" colspan=\"1\">5.63</td> <td align=\"center\" rowspan=\"1\" colspan=\"1\">1.07</td> <td align=\"center\" rowspan=\"1\" colspan=\"1\">alpha-Pinene</td> </tr> <tr> <td align=\"center\" rowspan=\"1\" colspan=\"1\">3</td> <td align=\"center\" rowspan=\"1\" colspan=\"1\">6.89</td> <td align=\"center\" rowspan=\"1\" colspan=\"1\">0.37</td> <td align=\"center\" rowspan=\"1\" colspan=\"1\">beta-Pinene</td> </tr> <tr> <td align=\"center\" rowspan=\"1\" colspan=\"1\">4</td> <td align=\"center\" rowspan=\"1\" colspan=\"1\">6.97</td> <td align=\"center\" rowspan=\"1\" colspan=\"1\">1.53</td> <td align=\"center\" rowspan=\"1\" colspan=\"1\">beta-Myrcene</td> </tr> <tr> <td align=\"center\" rowspan=\"1\" colspan=\"1\">5</td> <td align=\"center\" rowspan=\"1\" colspan=\"1\">7.53</td> <td align=\"center\" rowspan=\"1\" colspan=\"1\">0.33</td> <td align=\"center\" rowspan=\"1\" colspan=\"1\">alpha-Phellandrene</td> </tr> <tr> <td align=\"center\" rowspan=\"1\" colspan=\"1\">6</td> <td align=\"center\" rowspan=\"1\" colspan=\"1\">7.77</td> <td align=\"center\" rowspan=\"1\" colspan=\"1\">3.76</td> <td align=\"center\" rowspan=\"1\" colspan=\"1\">Carene<div class=\"δ-2-_UNKNOWN\" /></td> </tr> <tr> <td align=\"center\" rowspan=\"1\" colspan=\"1\">7</td> <td align=\"center\" rowspan=\"1\" colspan=\"1\">8.04</td> <td align=\"center\" rowspan=\"1\" colspan=\"1\">0.29</td> <td align=\"center\" rowspan=\"1\" colspan=\"1\">D-Limonene</td> </tr> <tr> <td align=\"center\" rowspan=\"1\" colspan=\"1\">8</td> <td align=\"center\" rowspan=\"1\" colspan=\"1\">8.26</td> <td align=\"center\" rowspan=\"1\" colspan=\"1\">0.21</td> <td align=\"center\" rowspan=\"1\" colspan=\"1\">beta-Phellandrene</td> </tr> <tr> <td align=\"center\" rowspan=\"1\" colspan=\"1\">9</td> <td align=\"center\" rowspan=\"1\" colspan=\"1\">8.46</td> <th align=\"center\" rowspan=\"1\" colspan=\"1\">8.41</th> <th align=\"center\" rowspan=\"1\" colspan=\"1\">para-Cymene</th> </tr> <tr> <td align=\"center\" rowspan=\"1\" colspan=\"1\">10</td> <td align=\"center\" rowspan=\"1\" colspan=\"1\">8.96</td> <th align=\"center\" rowspan=\"1\" colspan=\"1\">30.90</th> <th align=\"center\" rowspan=\"1\" colspan=\"1\">gamma-Terpinene</th> </tr> <tr> <td align=\"center\" rowspan=\"1\" colspan=\"1\">11</td> <td align=\"center\" rowspan=\"1\" colspan=\"1\">9.48</td> <td align=\"center\" rowspan=\"1\" colspan=\"1\">0.47</td> <td align=\"center\" rowspan=\"1\" colspan=\"1\">Terpineol</td> </tr> <tr> <td align=\"center\" rowspan=\"1\" colspan=\"1\">12</td> <td align=\"center\" rowspan=\"1\" colspan=\"1\">12.55</td> <td align=\"center\" rowspan=\"1\" colspan=\"1\">0.46</td> <td align=\"center\" rowspan=\"1\" colspan=\"1\">Terpinen-4-ol</td> </tr> <tr> <td align=\"center\" rowspan=\"1\" colspan=\"1\">13</td> <td align=\"center\" rowspan=\"1\" colspan=\"1\">16.17</td> <th align=\"center\" rowspan=\"1\" colspan=\"1\">47.59</th> <th align=\"center\" rowspan=\"1\" colspan=\"1\">Thymol</th> </tr> <tr> <td align=\"center\" rowspan=\"1\" colspan=\"1\">14</td> <td align=\"center\" rowspan=\"1\" colspan=\"1\">17.32</td> <td align=\"center\" rowspan=\"1\" colspan=\"1\">2.68</td> <td align=\"center\" rowspan=\"1\" colspan=\"1\">Caryophyllene</td> </tr> <tr> <td align=\"center\" rowspan=\"1\" colspan=\"1\">15</td> <td align=\"center\" rowspan=\"1\" colspan=\"1\">19.03</td> <td align=\"center\" rowspan=\"1\" colspan=\"1\">0.78</td> <td align=\"center\" rowspan=\"1\" colspan=\"1\">Cyclohexene, 1-methyl-4-(5-methyl-1-methylene-4-hexenyl)</td> </tr> <tr> <th align=\"center\" rowspan=\"1\" colspan=\"1\">Total</th> <td align=\"center\" rowspan=\"1\" colspan=\"1\" /> <th align=\"center\" rowspan=\"1\" colspan=\"1\">99.91%</th> <td align=\"center\" rowspan=\"1\" colspan=\"1\" /> </tr> <tr> <td align=\"center\" rowspan=\"1\" colspan=\"1\">*Constituents presented in the order of elution from the VF 35 MS column.</td> </tr> </tbody> </table> </div> <p>The inhibition of the growth of E. coli, K. pneumoniae, S. aureus, P. aeruginosa and E. faecalis was previously reported [ <b> <a href=\"#R4\">4</a> </b>, <b> <a href=\"#R7\">7</a> </b>, <b> <a href=\"#R9\">9</a> </b>] along with the efficacy against C. albicans [ <b> <a href=\"#R9\">9</a> </b>, <b> <a href=\"#R16\">16</a> </b>, <b> <a href=\"#R17\">17</a> </b>] and S. typhimurium [ <b> <a href=\"#R4\">4</a> </b>, <b> <a href=\"#R9\">9</a> </b>], respectively. In contrast, some studies report the inefficiency of thyme EO against E. coli [ <b> <a href=\"#R16\">16</a> </b>, <b> <a href=\"#R17\">17</a> </b>], S. aureus [ <b> <a href=\"#R16\">16</a> </b>] and K. pneumoniae [ <b> <a href=\"#R16\">16</a> </b>]. </p> <div class=\"fig\" title=\"fig\"> <div class=\"figure\" title=\"figure\"> <a href=\"http://doi.org/\"> <span class=\"label\" tagx=\"label\" title=\"label\">Fig. 1</span> </a> </div>   <p>The antimicrobial activity of thyme oil, at different amounts, expressed as a mean inhibition zone for each of the nine repeated measurements </p>   </div> <div class=\"table-wrap_UNKNOWN\" id=\"T2\" position=\"float\"> <span class=\"label\" tagx=\"label\" title=\"label\">Table 2</span>  <p>Effects of thyme oil against bacteria expressed by the mean sizes of the inhibitory zones </p>  <table frame=\"hsides\" rules=\"groups\"> <tbody> <tr> <th align=\"center\" rowspan=\"1\" colspan=\"1\">Test microorganism</th> <th align=\"center\" rowspan=\"1\" colspan=\"1\">Amount of essential oil [μL]</th> <th align=\"center\" rowspan=\"1\" colspan=\"1\" /> <th align=\"center\" rowspan=\"1\" colspan=\"1\" /> <th align=\"center\" rowspan=\"1\" colspan=\"1\" /> </tr> <tr> <th align=\"center\" rowspan=\"1\" colspan=\"1\" /> <th align=\"center\" rowspan=\"1\" colspan=\"1\">5</th> <th align=\"center\" rowspan=\"1\" colspan=\"1\">10</th> <th align=\"center\" rowspan=\"1\" colspan=\"1\">15</th> <th align=\"center\" rowspan=\"1\" colspan=\"1\">20</th> </tr> <tr> <td align=\"center\" rowspan=\"1\" colspan=\"1\"> <i>Staphylococcus aureus</i> ATCC 25923 </td> <td align=\"center\" rowspan=\"1\" colspan=\"1\">23.93 ± 0.33</td> <td align=\"center\" rowspan=\"1\" colspan=\"1\">29.2 ± 0.6</td> <td align=\"center\" rowspan=\"1\" colspan=\"1\">29.9 ± 0.35</td> <td align=\"center\" rowspan=\"1\" colspan=\"1\">31.4 ± 0.47</td> </tr> <tr> <td align=\"center\" rowspan=\"1\" colspan=\"1\"> <i>Salmonella typhimurium</i> ATCC 14028 </td> <td align=\"center\" rowspan=\"1\" colspan=\"1\">14.49 ± 0.34</td> <td align=\"center\" rowspan=\"1\" colspan=\"1\">19.71 ± 0.39</td> <td align=\"center\" rowspan=\"1\" colspan=\"1\">30.68 ± 0.33</td> <td align=\"center\" rowspan=\"1\" colspan=\"1\">34.94 ± 0.22</td> </tr> <tr> <td align=\"center\" rowspan=\"1\" colspan=\"1\"> <i>Pseudomonas aeruginosa</i> ATCC27853 </td> <td align=\"center\" rowspan=\"1\" colspan=\"1\">11.82 ± 0.27</td> <td align=\"center\" rowspan=\"1\" colspan=\"1\">13.34 ± 0.33</td> <td align=\"center\" rowspan=\"1\" colspan=\"1\">14 ± 0.22</td> <td align=\"center\" rowspan=\"1\" colspan=\"1\">14.13 ± 0.19</td> </tr> <tr> <td align=\"center\" rowspan=\"1\" colspan=\"1\"> <i>E. coli</i> ATCC 25922 </td> <td align=\"center\" rowspan=\"1\" colspan=\"1\">14.63 ± 0.36</td> <td align=\"center\" rowspan=\"1\" colspan=\"1\">19.82 ± 0.41</td> <td align=\"center\" rowspan=\"1\" colspan=\"1\">30.67 ± 0.31</td> <td align=\"center\" rowspan=\"1\" colspan=\"1\">34.99 ± 0.19</td> </tr> <tr> <td align=\"center\" rowspan=\"1\" colspan=\"1\"> <i>Klebsiella pneumoniae</i> ATCC 13882 </td> <td align=\"center\" rowspan=\"1\" colspan=\"1\">30.21 ± 0.12</td> <td align=\"center\" rowspan=\"1\" colspan=\"1\">31.02 ± 0.31</td> <td align=\"center\" rowspan=\"1\" colspan=\"1\">32.79 ± 0.24</td> <td align=\"center\" rowspan=\"1\" colspan=\"1\">33.93 ± 0.14</td> </tr> <tr> <td align=\"center\" rowspan=\"1\" colspan=\"1\"> <i>Enterococcus faecalis</i> ATCC 29212 </td> <td align=\"center\" rowspan=\"1\" colspan=\"1\">8.99 ± 0.15</td> <td align=\"center\" rowspan=\"1\" colspan=\"1\">15.06 ± 0.15</td> <td align=\"center\" rowspan=\"1\" colspan=\"1\">15.99 ± 0.18</td> <td align=\"center\" rowspan=\"1\" colspan=\"1\">24.06 ± 0.15</td> </tr> <tr> <td align=\"center\" rowspan=\"1\" colspan=\"1\"> <i>Candida albicans</i> ATCC 10231 </td> <td align=\"center\" rowspan=\"1\" colspan=\"1\">15.14 ± 0.38</td> <td align=\"center\" rowspan=\"1\" colspan=\"1\">19.43 ± 0.55</td> <td align=\"center\" rowspan=\"1\" colspan=\"1\">25.74 ± 0.24</td> <td align=\"center\" rowspan=\"1\" colspan=\"1\">30.2 ± 0.17</td> </tr> </tbody> </table> </div> <p>The inhibitions are expressed in mm and include the diameter of the paper disc (6 mm). Data distributions were expressed as mean values and standard deviations (SD) (n = 9). Ciprofloxacine and cephalexine (for bacterial strains) and fluconazole (for fungi), respectively, were used as positive controls. </p> <p>The antimicrobial activity of EOs depends on their chemical constituents. Apparently, the antimicrobial activity of the EO analyzed is related to the presence of phenolic compounds (thymol) and terpene hydrocarbons (γ-terpinene), respectively [ <b> <a href=\"#R4\">4</a> </b>, <b> <a href=\"#R7\">7</a> </b>, <b> <a href=\"#R18\">18</a> </b>]. p-Cymene, the third major element according to percentage, does not show antibacterial efficacy when used alone [ <b> <a href=\"#R7\">7</a> </b>], synergistic effects being however attributed to it in relation to thymol and γ-terpinene, respectively [ <b> <a href=\"#R19\">19</a> </b>, <b> <a href=\"#R20\">20</a> </b>], which might represent another cause of the antimicrobial activity recorded. On the other hand, a number of studies have shown that EOS exhibit stronger antimicrobial activity than that of their major constituents or their mixtures, respectively [ <b> <a href=\"#R21\">21</a> </b>, <b> <a href=\"#R22\">22</a> </b>], which suggests synergistic effects of the minor components, but also the importance of all components in relation to the biological activity of EOs. </p> </div> <div class=\"Conclusions\" title=\"Conclusions\"> <div class=\"title\" tagx=\"title\" title=\"title\">\n",
      "Conclusions</div> <p>The results demonstrate the effectiveness of thyme EO against the food-related bacteria and fungus tested. The synergism, antagonism and additive effects, respectively, of the EOs components require further research to elucidate the mechanisms underlying their biological activity, for the purpose of accessing new natural antiseptics applicable in the pharmaceutical and food industry. </p> </div> </div> <div class=\"back\" title=\"back\"> <div class=\"references\">\n",
      "References</div> <div tag=\"ref-list\"> <ul> <li tag=\"ref\"> <a name=\"R1\" /> <span class=\"label\" tagx=\"label\" title=\"label\">1</span> <span class=\"element-citation'\"> <span class=\"person-group'\"> <span class=\"name\" tagx=\"name\" title=\"name\"> <span class=\"surname\" tagx=\"surname\" title=\"surname\">De Martino</span> <span class=\"given-names\" tagx=\"given-names\" title=\"given-names\">L</span> </span> <span class=\"name\" tagx=\"name\" title=\"name\"> <span class=\"surname\" tagx=\"surname\" title=\"surname\">Bruno</span> <span class=\"given-names\" tagx=\"given-names\" title=\"given-names\">M</span> </span> <span class=\"name\" tagx=\"name\" title=\"name\"> <span class=\"surname\" tagx=\"surname\" title=\"surname\">Formisano</span> <span class=\"given-names\" tagx=\"given-names\" title=\"given-names\">C</span> </span> <span class=\"name\" tagx=\"name\" title=\"name\"> <span class=\"surname\" tagx=\"surname\" title=\"surname\">De Feo</span> <span class=\"given-names\" tagx=\"given-names\" title=\"given-names\">V</span> </span> <span class=\"name\" tagx=\"name\" title=\"name\"> <span class=\"surname\" tagx=\"surname\" title=\"surname\">Napolitano</span> <span class=\"given-names\" tagx=\"given-names\" title=\"given-names\">F</span> </span> <span class=\"name\" tagx=\"name\" title=\"name\"> <span class=\"surname\" tagx=\"surname\" title=\"surname\">Rosselli</span> <span class=\"given-names\" tagx=\"given-names\" title=\"given-names\">S</span> </span> <span class=\"name\" tagx=\"name\" title=\"name\"> <span class=\"surname\" tagx=\"surname\" title=\"surname\">Senatore</span> <span class=\"given-names\" tagx=\"given-names\" title=\"given-names\">F</span> </span> </span> <span class=\"mixed-article-title\" title=\"mixed-article-title\">Chemical Composition and Antimicrobial Activity of the Essential Oils from Two Species of Thymus Growing Wild in Southern Italy </span> <span class=\"source\" tagx=\"source\" title=\"source\">Molecules</span> <span class=\"year\" tagx=\"year\" title=\"year\">2009</span> <span class=\"volume\" tagx=\"volume\" title=\"volume\">14</span> <span class=\"issue\" tagx=\"issue\" title=\"issue\">11</span> <span class=\"fpage\" tagx=\"fpage\" title=\"fpage\">4614</span> <span class=\"lpage\" tagx=\"lpage\" title=\"lpage\">4624</span> <span class=\"pub-id\"> <a href=\"http://www.ncbi.nlm.nih.gov/pubmed/19924089\">19924089</a> </span> </span> </li> <li tag=\"ref\"> <a name=\"R2\" /> <span class=\"label\" tagx=\"label\" title=\"label\">2</span> <span class=\"element-citation'\"> <span class=\"person-group'\"> <span class=\"name\" tagx=\"name\" title=\"name\"> <span class=\"surname\" tagx=\"surname\" title=\"surname\">Grigore</span> <span class=\"given-names\" tagx=\"given-names\" title=\"given-names\">A</span> </span> <span class=\"name\" tagx=\"name\" title=\"name\"> <span class=\"surname\" tagx=\"surname\" title=\"surname\">Paraschiv</span> <span class=\"given-names\" tagx=\"given-names\" title=\"given-names\">I</span> </span> <span class=\"name\" tagx=\"name\" title=\"name\"> <span class=\"surname\" tagx=\"surname\" title=\"surname\">Colceru-Mihul</span> <span class=\"given-names\" tagx=\"given-names\" title=\"given-names\">S</span> </span> <span class=\"name\" tagx=\"name\" title=\"name\"> <span class=\"surname\" tagx=\"surname\" title=\"surname\">Bubueanu</span> <span class=\"given-names\" tagx=\"given-names\" title=\"given-names\">C</span> </span> <span class=\"name\" tagx=\"name\" title=\"name\"> <span class=\"surname\" tagx=\"surname\" title=\"surname\">Draghici</span> <span class=\"given-names\" tagx=\"given-names\" title=\"given-names\">E</span> </span> <span class=\"name\" tagx=\"name\" title=\"name\"> <span class=\"surname\" tagx=\"surname\" title=\"surname\">Ichim</span> <span class=\"given-names\" tagx=\"given-names\" title=\"given-names\">M</span> </span> </span> <span class=\"mixed-article-title\" title=\"mixed-article-title\">Chemical composition and antioxidant activity of Thymus vulgaris L. volatile oil obtained by two different methods </span> <span class=\"source\" tagx=\"source\" title=\"source\">Romanian Biotechnological Letters</span> <span class=\"year\" tagx=\"year\" title=\"year\">2010</span> <span class=\"volume\" tagx=\"volume\" title=\"volume\">15</span> <span class=\"issue\" tagx=\"issue\" title=\"issue\">4</span> <span class=\"fpage\" tagx=\"fpage\" title=\"fpage\">5436</span> <span class=\"lpage\" tagx=\"lpage\" title=\"lpage\">5443</span> </span> </li> <li tag=\"ref\"> <a name=\"R3\" /> <span class=\"label\" tagx=\"label\" title=\"label\">3</span> <span class=\"element-citation'\"> <span class=\"source\" tagx=\"source\" title=\"source\">European pharmacopoeia</span> <span class=\"year\" tagx=\"year\" title=\"year\">2004</span> <span class=\"edition\" tagx=\"edition\" title=\"edition\">5 ed.</span> <span class=\"publisher-loc\" tagx=\"publisher-loc\" title=\"publisher-loc\">Strasbourg: Council of Europe</span> <span class=\"publisher-name\" tagx=\"publisher-name\" title=\"publisher-name\">E.P.C.</span> <span class=\"fpage\" tagx=\"fpage\" title=\"fpage\">217</span> <span class=\"lpage\" tagx=\"lpage\" title=\"lpage\">218</span> </span> </li> <li tag=\"ref\"> <a name=\"R4\" /> <span class=\"label\" tagx=\"label\" title=\"label\">4</span> <span class=\"element-citation'\"> <span class=\"person-group'\"> <span class=\"name\" tagx=\"name\" title=\"name\"> <span class=\"surname\" tagx=\"surname\" title=\"surname\">Rota</span> <span class=\"given-names\" tagx=\"given-names\" title=\"given-names\">MC</span> </span> <span class=\"name\" tagx=\"name\" title=\"name\"> <span class=\"surname\" tagx=\"surname\" title=\"surname\">Herrera</span> <span class=\"given-names\" tagx=\"given-names\" title=\"given-names\">A</span> </span> <span class=\"name\" tagx=\"name\" title=\"name\"> <span class=\"surname\" tagx=\"surname\" title=\"surname\">Martínez</span> <span class=\"given-names\" tagx=\"given-names\" title=\"given-names\">RM</span> </span> <span class=\"name\" tagx=\"name\" title=\"name\"> <span class=\"surname\" tagx=\"surname\" title=\"surname\">Sotomayor</span> <span class=\"given-names\" tagx=\"given-names\" title=\"given-names\">JA</span> </span> <span class=\"name\" tagx=\"name\" title=\"name\"> <span class=\"surname\" tagx=\"surname\" title=\"surname\">Jordán</span> <span class=\"given-names\" tagx=\"given-names\" title=\"given-names\">MJ</span> </span> </span> <span class=\"mixed-article-title\" title=\"mixed-article-title\">Antimicrobial activity and chemical composition of Thymus vulgaris, Thymus zygis and Thymus hyemalis essential oils </span> <span class=\"source\" tagx=\"source\" title=\"source\">Food Control</span> <span class=\"year\" tagx=\"year\" title=\"year\">2008</span> <span class=\"volume\" tagx=\"volume\" title=\"volume\">19</span> <span class=\"issue\" tagx=\"issue\" title=\"issue\">7</span> <span class=\"fpage\" tagx=\"fpage\" title=\"fpage\">681</span> <span class=\"lpage\" tagx=\"lpage\" title=\"lpage\">687</span> </span> </li> <li tag=\"ref\"> <a name=\"R5\" /> <span class=\"label\" tagx=\"label\" title=\"label\">5</span> <span class=\"element-citation'\"> <span class=\"person-group'\"> <span class=\"name\" tagx=\"name\" title=\"name\"> <span class=\"surname\" tagx=\"surname\" title=\"surname\">Thompson</span> <span class=\"given-names\" tagx=\"given-names\" title=\"given-names\">JD</span> </span> <span class=\"name\" tagx=\"name\" title=\"name\"> <span class=\"surname\" tagx=\"surname\" title=\"surname\">Chalchat</span> <span class=\"given-names\" tagx=\"given-names\" title=\"given-names\">JC</span> </span> <span class=\"name\" tagx=\"name\" title=\"name\"> <span class=\"surname\" tagx=\"surname\" title=\"surname\">Michet</span> <span class=\"given-names\" tagx=\"given-names\" title=\"given-names\">A</span> </span> <span class=\"name\" tagx=\"name\" title=\"name\"> <span class=\"surname\" tagx=\"surname\" title=\"surname\">Linhart</span> <span class=\"given-names\" tagx=\"given-names\" title=\"given-names\">YB</span> </span> <span class=\"name\" tagx=\"name\" title=\"name\"> <span class=\"surname\" tagx=\"surname\" title=\"surname\">Ehlers</span> <span class=\"given-names\" tagx=\"given-names\" title=\"given-names\">B</span> </span> </span> <span class=\"mixed-article-title\" title=\"mixed-article-title\">Qualitative and quantitative variation in monoterpene co-occurrence and composition in the essential oil of Thymus vulgaris chemotypes </span> <span class=\"source\" tagx=\"source\" title=\"source\">Journal of Chemical Ecology</span> <span class=\"year\" tagx=\"year\" title=\"year\">2003</span> <span class=\"volume\" tagx=\"volume\" title=\"volume\">29</span> <span class=\"issue\" tagx=\"issue\" title=\"issue\">4</span> <span class=\"fpage\" tagx=\"fpage\" title=\"fpage\">859</span> <span class=\"lpage\" tagx=\"lpage\" title=\"lpage\">880</span> <span class=\"pub-id\"> <a href=\"http://www.ncbi.nlm.nih.gov/pubmed/12775148\">12775148</a> </span> </span> </li> <li tag=\"ref\"> <a name=\"R6\" /> <span class=\"label\" tagx=\"label\" title=\"label\">6</span> <span class=\"element-citation'\"> <span class=\"person-group'\"> <span class=\"name\" tagx=\"name\" title=\"name\"> <span class=\"surname\" tagx=\"surname\" title=\"surname\">Hudaib</span> <span class=\"given-names\" tagx=\"given-names\" title=\"given-names\">M</span> </span> <span class=\"name\" tagx=\"name\" title=\"name\"> <span class=\"surname\" tagx=\"surname\" title=\"surname\">Aburjai</span> <span class=\"given-names\" tagx=\"given-names\" title=\"given-names\">T</span> </span> </span> <span class=\"mixed-article-title\" title=\"mixed-article-title\">Volatile components of Thymus vulgaris L. from wild-growing and cultivated plants in Jordan </span> <span class=\"source\" tagx=\"source\" title=\"source\">Flavour and Fragrance Journal</span> <span class=\"year\" tagx=\"year\" title=\"year\">2007</span> <span class=\"volume\" tagx=\"volume\" title=\"volume\">22</span> <span class=\"issue\" tagx=\"issue\" title=\"issue\">4</span> <span class=\"fpage\" tagx=\"fpage\" title=\"fpage\">322</span> <span class=\"lpage\" tagx=\"lpage\" title=\"lpage\">327</span> </span> </li> <li tag=\"ref\"> <a name=\"R7\" /> <span class=\"label\" tagx=\"label\" title=\"label\">7</span> <span class=\"element-citation'\"> <span class=\"person-group'\"> <span class=\"name\" tagx=\"name\" title=\"name\"> <span class=\"surname\" tagx=\"surname\" title=\"surname\">Dorman</span> <span class=\"given-names\" tagx=\"given-names\" title=\"given-names\">HJD</span> </span> <span class=\"name\" tagx=\"name\" title=\"name\"> <span class=\"surname\" tagx=\"surname\" title=\"surname\">Deans</span> <span class=\"given-names\" tagx=\"given-names\" title=\"given-names\">SG</span> </span> </span> <span class=\"mixed-article-title\" title=\"mixed-article-title\">Antimicrobial agents from plants: antibacterial activity of plant volatile oils</span> <span class=\"source\" tagx=\"source\" title=\"source\">Journal of Applied Microbiology</span> <span class=\"year\" tagx=\"year\" title=\"year\">2000</span> <span class=\"volume\" tagx=\"volume\" title=\"volume\">88</span> <span class=\"issue\" tagx=\"issue\" title=\"issue\">2</span> <span class=\"fpage\" tagx=\"fpage\" title=\"fpage\">308</span> <span class=\"lpage\" tagx=\"lpage\" title=\"lpage\">316</span> <span class=\"pub-id\"> <a href=\"http://www.ncbi.nlm.nih.gov/pubmed/10736000\">10736000</a> </span> </span> </li> <li tag=\"ref\"> <a name=\"R8\" /> <span class=\"label\" tagx=\"label\" title=\"label\">8</span> <span class=\"element-citation'\"> <span class=\"person-group'\"> <span class=\"name\" tagx=\"name\" title=\"name\"> <span class=\"surname\" tagx=\"surname\" title=\"surname\">Sacchetti</span> <span class=\"given-names\" tagx=\"given-names\" title=\"given-names\">G</span> </span> <span class=\"name\" tagx=\"name\" title=\"name\"> <span class=\"surname\" tagx=\"surname\" title=\"surname\">Maietti</span> <span class=\"given-names\" tagx=\"given-names\" title=\"given-names\">S</span> </span> <span class=\"name\" tagx=\"name\" title=\"name\"> <span class=\"surname\" tagx=\"surname\" title=\"surname\">Muzzoli</span> <span class=\"given-names\" tagx=\"given-names\" title=\"given-names\">M</span> </span> <span class=\"name\" tagx=\"name\" title=\"name\"> <span class=\"surname\" tagx=\"surname\" title=\"surname\">Scaglianti</span> <span class=\"given-names\" tagx=\"given-names\" title=\"given-names\">M</span> </span> <span class=\"name\" tagx=\"name\" title=\"name\"> <span class=\"surname\" tagx=\"surname\" title=\"surname\">Manfredini</span> <span class=\"given-names\" tagx=\"given-names\" title=\"given-names\">S</span> </span> <span class=\"name\" tagx=\"name\" title=\"name\"> <span class=\"surname\" tagx=\"surname\" title=\"surname\">Radice</span> <span class=\"given-names\" tagx=\"given-names\" title=\"given-names\">M</span> </span> <span class=\"name\" tagx=\"name\" title=\"name\"> <span class=\"surname\" tagx=\"surname\" title=\"surname\">Bruni</span> <span class=\"given-names\" tagx=\"given-names\" title=\"given-names\">R</span> </span> </span> <span class=\"mixed-article-title\" title=\"mixed-article-title\">Comparative evaluation of 11 essential oils of different origin as functional antioxidants, antiradicals and antimicrobials in foods </span> <span class=\"source\" tagx=\"source\" title=\"source\">Food Chemistry</span> <span class=\"year\" tagx=\"year\" title=\"year\">2005</span> <span class=\"volume\" tagx=\"volume\" title=\"volume\">91</span> <span class=\"issue\" tagx=\"issue\" title=\"issue\">4</span> <span class=\"fpage\" tagx=\"fpage\" title=\"fpage\">621</span> <span class=\"lpage\" tagx=\"lpage\" title=\"lpage\">632</span> </span> </li> <li tag=\"ref\"> <a name=\"R9\" /> <span class=\"label\" tagx=\"label\" title=\"label\">9</span> <span class=\"element-citation'\"> <span class=\"person-group'\"> <span class=\"name\" tagx=\"name\" title=\"name\"> <span class=\"surname\" tagx=\"surname\" title=\"surname\">Hammer</span> <span class=\"given-names\" tagx=\"given-names\" title=\"given-names\">KA</span> </span> <span class=\"name\" tagx=\"name\" title=\"name\"> <span class=\"surname\" tagx=\"surname\" title=\"surname\">Carson</span> <span class=\"given-names\" tagx=\"given-names\" title=\"given-names\">CF</span> </span> <span class=\"name\" tagx=\"name\" title=\"name\"> <span class=\"surname\" tagx=\"surname\" title=\"surname\">Riley</span> <span class=\"given-names\" tagx=\"given-names\" title=\"given-names\">TV</span> </span> </span> <span class=\"mixed-article-title\" title=\"mixed-article-title\">Antimicrobial activity of essential oils and other plant extracts</span> <span class=\"source\" tagx=\"source\" title=\"source\">Journal of Applied Microbiology</span> <span class=\"year\" tagx=\"year\" title=\"year\">1999</span> <span class=\"volume\" tagx=\"volume\" title=\"volume\">86</span> <span class=\"issue\" tagx=\"issue\" title=\"issue\">6</span> <span class=\"fpage\" tagx=\"fpage\" title=\"fpage\">985</span> <span class=\"lpage\" tagx=\"lpage\" title=\"lpage\">990</span> <span class=\"pub-id\"> <a href=\"http://www.ncbi.nlm.nih.gov/pubmed/10438227\">10438227</a> </span> </span> </li> <li tag=\"ref\"> <a name=\"R10\" /> <span class=\"label\" tagx=\"label\" title=\"label\">10</span> <span class=\"element-citation'\"> <span class=\"person-group'\"> <span class=\"name\" tagx=\"name\" title=\"name\"> <span class=\"surname\" tagx=\"surname\" title=\"surname\">Jianu</span> <span class=\"given-names\" tagx=\"given-names\" title=\"given-names\">C</span> </span> <span class=\"name\" tagx=\"name\" title=\"name\"> <span class=\"surname\" tagx=\"surname\" title=\"surname\">Misca</span> <span class=\"given-names\" tagx=\"given-names\" title=\"given-names\">C</span> </span> <span class=\"name\" tagx=\"name\" title=\"name\"> <span class=\"surname\" tagx=\"surname\" title=\"surname\">Pop</span> <span class=\"given-names\" tagx=\"given-names\" title=\"given-names\">G</span> </span> <span class=\"name\" tagx=\"name\" title=\"name\"> <span class=\"surname\" tagx=\"surname\" title=\"surname\">Rusu</span> <span class=\"given-names\" tagx=\"given-names\" title=\"given-names\">LC</span> </span> <span class=\"name\" tagx=\"name\" title=\"name\"> <span class=\"surname\" tagx=\"surname\" title=\"surname\">Ardelean</span> <span class=\"given-names\" tagx=\"given-names\" title=\"given-names\">L</span> </span> <span class=\"name\" tagx=\"name\" title=\"name\"> <span class=\"surname\" tagx=\"surname\" title=\"surname\">Gruia</span> <span class=\"given-names\" tagx=\"given-names\" title=\"given-names\">AT</span> </span> </span> <span class=\"mixed-article-title\" title=\"mixed-article-title\">Chemical Composition and Antimicrobial Activity of Essential Oils Obtained from Dill (Anethum graveolens L.) Grown in Western Romania </span> <span class=\"source\" tagx=\"source\" title=\"source\">Revista de Chimie (Bucharest)</span> <span class=\"year\" tagx=\"year\" title=\"year\">2012</span> <span class=\"volume\" tagx=\"volume\" title=\"volume\">63</span> <span class=\"issue\" tagx=\"issue\" title=\"issue\">6</span> <span class=\"fpage\" tagx=\"fpage\" title=\"fpage\">641</span> <span class=\"lpage\" tagx=\"lpage\" title=\"lpage\">645</span> </span> </li> <li tag=\"ref\"> <a name=\"R11\" /> <span class=\"label\" tagx=\"label\" title=\"label\">11</span> <span class=\"element-citation'\"> <span class=\"person-group'\"> <span class=\"name\" tagx=\"name\" title=\"name\"> <span class=\"surname\" tagx=\"surname\" title=\"surname\">Imelouane</span> <span class=\"given-names\" tagx=\"given-names\" title=\"given-names\">B</span> </span> <span class=\"name\" tagx=\"name\" title=\"name\"> <span class=\"surname\" tagx=\"surname\" title=\"surname\">Amhamdi</span> <span class=\"given-names\" tagx=\"given-names\" title=\"given-names\">H</span> </span> <span class=\"name\" tagx=\"name\" title=\"name\"> <span class=\"surname\" tagx=\"surname\" title=\"surname\">Wathelet</span> <span class=\"given-names\" tagx=\"given-names\" title=\"given-names\">JP</span> </span> <span class=\"name\" tagx=\"name\" title=\"name\"> <span class=\"surname\" tagx=\"surname\" title=\"surname\">Ankit</span> <span class=\"given-names\" tagx=\"given-names\" title=\"given-names\">M</span> </span> <span class=\"name\" tagx=\"name\" title=\"name\"> <span class=\"surname\" tagx=\"surname\" title=\"surname\">Khedid</span> <span class=\"given-names\" tagx=\"given-names\" title=\"given-names\">K</span> </span> <span class=\"name\" tagx=\"name\" title=\"name\"> <span class=\"surname\" tagx=\"surname\" title=\"surname\">El Bachiri</span> <span class=\"given-names\" tagx=\"given-names\" title=\"given-names\">A</span> </span> </span> <span class=\"mixed-article-title\" title=\"mixed-article-title\">hemical Composition and Antimicrobial Activity of Essential Oil of Thyme (Thymus vulgaris) from Eastern Morocco </span> <span class=\"source\" tagx=\"source\" title=\"source\">International Journal of Agriculture and Biology</span> <span class=\"year\" tagx=\"year\" title=\"year\">2009</span> <span class=\"volume\" tagx=\"volume\" title=\"volume\">11</span> <span class=\"issue\" tagx=\"issue\" title=\"issue\">2</span> <span class=\"fpage\" tagx=\"fpage\" title=\"fpage\">205</span> <span class=\"lpage\" tagx=\"lpage\" title=\"lpage\">208</span> </span> </li> <li tag=\"ref\"> <a name=\"R12\" /> <span class=\"label\" tagx=\"label\" title=\"label\">12</span> <span class=\"element-citation'\"> <span class=\"person-group'\"> <span class=\"name\" tagx=\"name\" title=\"name\"> <span class=\"surname\" tagx=\"surname\" title=\"surname\">Ballester-Costa</span> <span class=\"given-names\" tagx=\"given-names\" title=\"given-names\">C</span> </span> <span class=\"name\" tagx=\"name\" title=\"name\"> <span class=\"surname\" tagx=\"surname\" title=\"surname\">Sendra</span> <span class=\"given-names\" tagx=\"given-names\" title=\"given-names\">E</span> </span> <span class=\"name\" tagx=\"name\" title=\"name\"> <span class=\"surname\" tagx=\"surname\" title=\"surname\">Fernández-López</span> <span class=\"given-names\" tagx=\"given-names\" title=\"given-names\">J</span> </span> <span class=\"name\" tagx=\"name\" title=\"name\"> <span class=\"surname\" tagx=\"surname\" title=\"surname\">Pérez-Álvarez</span> <span class=\"given-names\" tagx=\"given-names\" title=\"given-names\">JA</span> </span> <span class=\"name\" tagx=\"name\" title=\"name\"> <span class=\"surname\" tagx=\"surname\" title=\"surname\">Viuda-Martos</span> <span class=\"given-names\" tagx=\"given-names\" title=\"given-names\">M</span> </span> </span> <span class=\"mixed-article-title\" title=\"mixed-article-title\">Chemical composition and in vitro antibacterial properties of essential oils of four Thymus species from organic growth </span> <span class=\"source\" tagx=\"source\" title=\"source\">Industrial Crops and Products</span> <span class=\"year\" tagx=\"year\" title=\"year\">2013</span> <span class=\"volume\" tagx=\"volume\" title=\"volume\">50</span> <span class=\"fpage\" tagx=\"fpage\" title=\"fpage\">304</span> <span class=\"lpage\" tagx=\"lpage\" title=\"lpage\">311</span> </span> </li> <li tag=\"ref\"> <a name=\"R13\" /> <span class=\"label\" tagx=\"label\" title=\"label\">13</span> <span class=\"element-citation'\"> <span class=\"person-group'\"> <span class=\"name\" tagx=\"name\" title=\"name\"> <span class=\"surname\" tagx=\"surname\" title=\"surname\">De Lisi</span> <span class=\"given-names\" tagx=\"given-names\" title=\"given-names\">A</span> </span> <span class=\"name\" tagx=\"name\" title=\"name\"> <span class=\"surname\" tagx=\"surname\" title=\"surname\">Tedone</span> <span class=\"given-names\" tagx=\"given-names\" title=\"given-names\">L</span> </span> <span class=\"name\" tagx=\"name\" title=\"name\"> <span class=\"surname\" tagx=\"surname\" title=\"surname\">Montesano</span> <span class=\"given-names\" tagx=\"given-names\" title=\"given-names\">V</span> </span> <span class=\"name\" tagx=\"name\" title=\"name\"> <span class=\"surname\" tagx=\"surname\" title=\"surname\">Sarli</span> <span class=\"given-names\" tagx=\"given-names\" title=\"given-names\">G</span> </span> <span class=\"name\" tagx=\"name\" title=\"name\"> <span class=\"surname\" tagx=\"surname\" title=\"surname\">Negro</span> <span class=\"given-names\" tagx=\"given-names\" title=\"given-names\">D</span> </span> </span> <span class=\"mixed-article-title\" title=\"mixed-article-title\">Chemical characterisation of Thymus populations belonging from Southern Italy</span> <span class=\"source\" tagx=\"source\" title=\"source\">Food Chemistry</span> <span class=\"year\" tagx=\"year\" title=\"year\">2011</span> <span class=\"volume\" tagx=\"volume\" title=\"volume\">125</span> <span class=\"issue\" tagx=\"issue\" title=\"issue\">4</span> <span class=\"fpage\" tagx=\"fpage\" title=\"fpage\">1284</span> <span class=\"lpage\" tagx=\"lpage\" title=\"lpage\">1286</span> </span> </li> <li tag=\"ref\"> <a name=\"R14\" /> <span class=\"label\" tagx=\"label\" title=\"label\">14</span> <span class=\"element-citation'\"> <span class=\"person-group'\"> <span class=\"name\" tagx=\"name\" title=\"name\"> <span class=\"surname\" tagx=\"surname\" title=\"surname\">Pirbalouti</span> <span class=\"given-names\" tagx=\"given-names\" title=\"given-names\">AG</span> </span> <span class=\"name\" tagx=\"name\" title=\"name\"> <span class=\"surname\" tagx=\"surname\" title=\"surname\">Hashemi</span> <span class=\"given-names\" tagx=\"given-names\" title=\"given-names\">M</span> </span> <span class=\"name\" tagx=\"name\" title=\"name\"> <span class=\"surname\" tagx=\"surname\" title=\"surname\">Ghahfarokhi</span> <span class=\"given-names\" tagx=\"given-names\" title=\"given-names\">FT</span> </span> </span> <span class=\"mixed-article-title\" title=\"mixed-article-title\">Essential oil and chemical compositions of wild and cultivated Thymus daenensis Celak and Thymus vulgaris L </span> <span class=\"source\" tagx=\"source\" title=\"source\">Industrial Crops and Products</span> <span class=\"year\" tagx=\"year\" title=\"year\">2013</span> <span class=\"volume\" tagx=\"volume\" title=\"volume\">48</span> <span class=\"fpage\" tagx=\"fpage\" title=\"fpage\">43</span> <span class=\"lpage\" tagx=\"lpage\" title=\"lpage\">48</span> </span> </li> <li tag=\"ref\"> <a name=\"R15\" /> <span class=\"label\" tagx=\"label\" title=\"label\">15</span> <span class=\"element-citation'\"> <span class=\"person-group'\"> <span class=\"name\" tagx=\"name\" title=\"name\"> <span class=\"surname\" tagx=\"surname\" title=\"surname\">Kowalski</span> <span class=\"given-names\" tagx=\"given-names\" title=\"given-names\">R</span> </span> <span class=\"name\" tagx=\"name\" title=\"name\"> <span class=\"surname\" tagx=\"surname\" title=\"surname\">Wawrzykowski</span> <span class=\"given-names\" tagx=\"given-names\" title=\"given-names\">J</span> </span> </span> <span class=\"mixed-article-title\" title=\"mixed-article-title\">Essential oils analysis in dried materials and granulates obtained from Thymus vulgaris L., Salvia officinalis L., Mentha piperita L. and Chamomilla recutita L </span> <span class=\"source\" tagx=\"source\" title=\"source\">Flavour and Fragrance Journal</span> <span class=\"year\" tagx=\"year\" title=\"year\">2009</span> <span class=\"volume\" tagx=\"volume\" title=\"volume\">24</span> <span class=\"issue\" tagx=\"issue\" title=\"issue\">1</span> <span class=\"fpage\" tagx=\"fpage\" title=\"fpage\">31</span> <span class=\"lpage\" tagx=\"lpage\" title=\"lpage\">35</span> </span> </li> <li tag=\"ref\"> <a name=\"R16\" /> <span class=\"label\" tagx=\"label\" title=\"label\">16</span> <span class=\"element-citation'\"> <span class=\"person-group'\"> <span class=\"name\" tagx=\"name\" title=\"name\"> <span class=\"surname\" tagx=\"surname\" title=\"surname\">Nascimento</span> <span class=\"given-names\" tagx=\"given-names\" title=\"given-names\">GGF</span> </span> <span class=\"name\" tagx=\"name\" title=\"name\"> <span class=\"surname\" tagx=\"surname\" title=\"surname\">Locatelli</span> <span class=\"given-names\" tagx=\"given-names\" title=\"given-names\">J</span> </span> <span class=\"name\" tagx=\"name\" title=\"name\"> <span class=\"surname\" tagx=\"surname\" title=\"surname\">Freitas</span> <span class=\"given-names\" tagx=\"given-names\" title=\"given-names\">PC</span> </span> <span class=\"name\" tagx=\"name\" title=\"name\"> <span class=\"surname\" tagx=\"surname\" title=\"surname\">Silva</span> <span class=\"given-names\" tagx=\"given-names\" title=\"given-names\">GL</span> </span> </span> <span class=\"mixed-article-title\" title=\"mixed-article-title\">Antibacterial activity of plant extracts and phytochemicals on antibiotic-resistant bacteria </span> <span class=\"source\" tagx=\"source\" title=\"source\">Brazilian Journal of Microbiology</span> <span class=\"year\" tagx=\"year\" title=\"year\">2000</span> <span class=\"volume\" tagx=\"volume\" title=\"volume\">31</span> <span class=\"issue\" tagx=\"issue\" title=\"issue\">4</span> <span class=\"fpage\" tagx=\"fpage\" title=\"fpage\">247</span> <span class=\"lpage\" tagx=\"lpage\" title=\"lpage\">256</span> </span> </li> <li tag=\"ref\"> <a name=\"R17\" /> <span class=\"label\" tagx=\"label\" title=\"label\">17</span> <span class=\"element-citation'\"> <span class=\"person-group'\"> <span class=\"name\" tagx=\"name\" title=\"name\"> <span class=\"surname\" tagx=\"surname\" title=\"surname\">Sartoratto</span> <span class=\"given-names\" tagx=\"given-names\" title=\"given-names\">A</span> </span> <span class=\"name\" tagx=\"name\" title=\"name\"> <span class=\"surname\" tagx=\"surname\" title=\"surname\">Machado</span> <span class=\"given-names\" tagx=\"given-names\" title=\"given-names\">ALM</span> </span> <span class=\"name\" tagx=\"name\" title=\"name\"> <span class=\"surname\" tagx=\"surname\" title=\"surname\">Delarmelina</span> <span class=\"given-names\" tagx=\"given-names\" title=\"given-names\">C</span> </span> <span class=\"name\" tagx=\"name\" title=\"name\"> <span class=\"surname\" tagx=\"surname\" title=\"surname\">Figueira</span> <span class=\"given-names\" tagx=\"given-names\" title=\"given-names\">GM</span> </span> <span class=\"name\" tagx=\"name\" title=\"name\"> <span class=\"surname\" tagx=\"surname\" title=\"surname\">Duarte</span> <span class=\"given-names\" tagx=\"given-names\" title=\"given-names\">MCT</span> </span> <span class=\"name\" tagx=\"name\" title=\"name\"> <span class=\"surname\" tagx=\"surname\" title=\"surname\">Rehder</span> <span class=\"given-names\" tagx=\"given-names\" title=\"given-names\">VLG</span> </span> </span> <span class=\"mixed-article-title\" title=\"mixed-article-title\">Composition and antimicrobial activity of essential oils from aromatic plants used in Brazil </span> <span class=\"source\" tagx=\"source\" title=\"source\">Brazilian Journal of Microbiology</span> <span class=\"year\" tagx=\"year\" title=\"year\">2004</span> <span class=\"volume\" tagx=\"volume\" title=\"volume\">35</span> <span class=\"issue\" tagx=\"issue\" title=\"issue\">4</span> <span class=\"fpage\" tagx=\"fpage\" title=\"fpage\">275</span> <span class=\"lpage\" tagx=\"lpage\" title=\"lpage\">280</span> </span> </li> <li tag=\"ref\"> <a name=\"R18\" /> <span class=\"label\" tagx=\"label\" title=\"label\">18</span> <span class=\"element-citation'\"> <span class=\"person-group'\"> <span class=\"name\" tagx=\"name\" title=\"name\"> <span class=\"surname\" tagx=\"surname\" title=\"surname\">Skočibušić</span> <span class=\"given-names\" tagx=\"given-names\" title=\"given-names\">M</span> </span> <span class=\"name\" tagx=\"name\" title=\"name\"> <span class=\"surname\" tagx=\"surname\" title=\"surname\">Bezić</span> <span class=\"given-names\" tagx=\"given-names\" title=\"given-names\">N</span> </span> <span class=\"name\" tagx=\"name\" title=\"name\"> <span class=\"surname\" tagx=\"surname\" title=\"surname\">Dunkić</span> <span class=\"given-names\" tagx=\"given-names\" title=\"given-names\">V</span> </span> </span> <span class=\"mixed-article-title\" title=\"mixed-article-title\">Phytochemical composition and antimicrobial activities of the essential oils from Vis. growing in Croatia </span> <span class=\"source\" tagx=\"source\" title=\"source\">Food Chemistry</span> <span class=\"year\" tagx=\"year\" title=\"year\">2006</span> <span class=\"volume\" tagx=\"volume\" title=\"volume\">96</span> <span class=\"issue\" tagx=\"issue\" title=\"issue\">1</span> <span class=\"fpage\" tagx=\"fpage\" title=\"fpage\">20</span> <span class=\"lpage\" tagx=\"lpage\" title=\"lpage\">28</span> </span> </li> <li tag=\"ref\"> <a name=\"R19\" /> <span class=\"label\" tagx=\"label\" title=\"label\">19</span> <span class=\"element-citation'\"> <span class=\"person-group'\"> <span class=\"name\" tagx=\"name\" title=\"name\"> <span class=\"surname\" tagx=\"surname\" title=\"surname\">Delgado</span> <span class=\"given-names\" tagx=\"given-names\" title=\"given-names\">B</span> </span> <span class=\"name\" tagx=\"name\" title=\"name\"> <span class=\"surname\" tagx=\"surname\" title=\"surname\">Fernández</span> <span class=\"given-names\" tagx=\"given-names\" title=\"given-names\">PS</span> </span> <span class=\"name\" tagx=\"name\" title=\"name\"> <span class=\"surname\" tagx=\"surname\" title=\"surname\">Palop</span> <span class=\"given-names\" tagx=\"given-names\" title=\"given-names\">A</span> </span> <span class=\"name\" tagx=\"name\" title=\"name\"> <span class=\"surname\" tagx=\"surname\" title=\"surname\">Periago</span> <span class=\"given-names\" tagx=\"given-names\" title=\"given-names\">PM</span> </span> </span> <span class=\"mixed-article-title\" title=\"mixed-article-title\">Effect of thymol and cymene on Bacillus cereus vegetative cells evaluated through the use of frequency distributions </span> <span class=\"source\" tagx=\"source\" title=\"source\">Food Microbiol</span> <span class=\"year\" tagx=\"year\" title=\"year\">2004</span> <span class=\"volume\" tagx=\"volume\" title=\"volume\">21</span> <span class=\"issue\" tagx=\"issue\" title=\"issue\">3</span> <span class=\"fpage\" tagx=\"fpage\" title=\"fpage\">327</span> <span class=\"lpage\" tagx=\"lpage\" title=\"lpage\">334</span> </span> </li> <li tag=\"ref\"> <a name=\"R20\" /> <span class=\"label\" tagx=\"label\" title=\"label\">20</span> <span class=\"element-citation'\"> <span class=\"person-group'\"> <span class=\"name\" tagx=\"name\" title=\"name\"> <span class=\"surname\" tagx=\"surname\" title=\"surname\">Gallucci</span> <span class=\"given-names\" tagx=\"given-names\" title=\"given-names\">MN</span> </span> <span class=\"name\" tagx=\"name\" title=\"name\"> <span class=\"surname\" tagx=\"surname\" title=\"surname\">Oliva</span> <span class=\"given-names\" tagx=\"given-names\" title=\"given-names\">M</span> </span> <span class=\"name\" tagx=\"name\" title=\"name\"> <span class=\"surname\" tagx=\"surname\" title=\"surname\">Casero</span> <span class=\"given-names\" tagx=\"given-names\" title=\"given-names\">C</span> </span> <span class=\"name\" tagx=\"name\" title=\"name\"> <span class=\"surname\" tagx=\"surname\" title=\"surname\">Dambolena</span> <span class=\"given-names\" tagx=\"given-names\" title=\"given-names\">J</span> </span> <span class=\"name\" tagx=\"name\" title=\"name\"> <span class=\"surname\" tagx=\"surname\" title=\"surname\">Luna</span> <span class=\"given-names\" tagx=\"given-names\" title=\"given-names\">A</span> </span> <span class=\"name\" tagx=\"name\" title=\"name\"> <span class=\"surname\" tagx=\"surname\" title=\"surname\">Zygadlo</span> <span class=\"given-names\" tagx=\"given-names\" title=\"given-names\">J</span> </span> <span class=\"name\" tagx=\"name\" title=\"name\"> <span class=\"surname\" tagx=\"surname\" title=\"surname\">Demo</span> <span class=\"given-names\" tagx=\"given-names\" title=\"given-names\">M</span> </span> </span> <span class=\"mixed-article-title\" title=\"mixed-article-title\">Antimicrobial combined action of terpenes against the food-borne microorganisms Escherichia coli, Staphylococcus aureus and Bacillus cereus </span> <span class=\"source\" tagx=\"source\" title=\"source\">Flavour and Fragrance Journal</span> <span class=\"year\" tagx=\"year\" title=\"year\">2009</span> <span class=\"volume\" tagx=\"volume\" title=\"volume\">24</span> <span class=\"issue\" tagx=\"issue\" title=\"issue\">6</span> <span class=\"fpage\" tagx=\"fpage\" title=\"fpage\">348</span> <span class=\"lpage\" tagx=\"lpage\" title=\"lpage\">354</span> </span> </li> <li tag=\"ref\"> <a name=\"R21\" /> <span class=\"label\" tagx=\"label\" title=\"label\">21</span> <span class=\"element-citation'\"> <span class=\"person-group'\"> <span class=\"name\" tagx=\"name\" title=\"name\"> <span class=\"surname\" tagx=\"surname\" title=\"surname\">Gill</span> <span class=\"given-names\" tagx=\"given-names\" title=\"given-names\">AO</span> </span> <span class=\"name\" tagx=\"name\" title=\"name\"> <span class=\"surname\" tagx=\"surname\" title=\"surname\">Delaquis</span> <span class=\"given-names\" tagx=\"given-names\" title=\"given-names\">P</span> </span> <span class=\"name\" tagx=\"name\" title=\"name\"> <span class=\"surname\" tagx=\"surname\" title=\"surname\">Russo</span> <span class=\"given-names\" tagx=\"given-names\" title=\"given-names\">P</span> </span> <span class=\"name\" tagx=\"name\" title=\"name\"> <span class=\"surname\" tagx=\"surname\" title=\"surname\">Holley</span> <span class=\"given-names\" tagx=\"given-names\" title=\"given-names\">RA</span> </span> </span> <span class=\"mixed-article-title\" title=\"mixed-article-title\">Evaluation of antilisterial action of cilantro oil on vacuum packed ham</span> <span class=\"source\" tagx=\"source\" title=\"source\">International Journal of Food Microbiology</span> <span class=\"year\" tagx=\"year\" title=\"year\">2002</span> <span class=\"volume\" tagx=\"volume\" title=\"volume\">73</span> <span class=\"issue\" tagx=\"issue\" title=\"issue\">1</span> <span class=\"fpage\" tagx=\"fpage\" title=\"fpage\">83</span> <span class=\"lpage\" tagx=\"lpage\" title=\"lpage\">92</span> <span class=\"pub-id\"> <a href=\"http://www.ncbi.nlm.nih.gov/pubmed/11883677\">11883677</a> </span> </span> </li> <li tag=\"ref\"> <a name=\"R22\" /> <span class=\"label\" tagx=\"label\" title=\"label\">22</span> <span class=\"element-citation'\"> <span class=\"person-group'\"> <span class=\"name\" tagx=\"name\" title=\"name\"> <span class=\"surname\" tagx=\"surname\" title=\"surname\">Mourey</span> <span class=\"given-names\" tagx=\"given-names\" title=\"given-names\">A</span> </span> <span class=\"name\" tagx=\"name\" title=\"name\"> <span class=\"surname\" tagx=\"surname\" title=\"surname\">Canillac</span> <span class=\"given-names\" tagx=\"given-names\" title=\"given-names\">N</span> </span> </span> <span class=\"mixed-article-title\" title=\"mixed-article-title\">Anti-Listeria monocytogenes activity of essential oils components of conifers</span> <span class=\"source\" tagx=\"source\" title=\"source\">Food Control</span> <span class=\"year\" tagx=\"year\" title=\"year\">2002</span> <span class=\"volume\" tagx=\"volume\" title=\"volume\">13</span> <span class=\"issue\" tagx=\"issue\" title=\"issue\">4-5</span> <span class=\"fpage\" tagx=\"fpage\" title=\"fpage\">289</span> <span class=\"lpage\" tagx=\"lpage\" title=\"lpage\">292</span> </span> </li> </ul> </div> </div>  </body></html>\n"
     ]
    }
   ],
   "source": [
    "if FOLDER == 'ipcc/'\n",
    "#     python dictionary with links to raw IPCC reports HTML\n",
    "    html_dict = {\n",
    "        \"chap01\":\"https://raw.githubusercontent.com/petermr/semanticClimate/main/ipcc/ar6/wg3/Chapter01/fulltext.flow.html\",\n",
    "        \"chap04\":\"https://raw.githubusercontent.com/petermr/semanticClimate/main/ipcc/ar6/wg3/Chapter04/fulltext.flow.html\",\n",
    "        \"chap06\":\"https://raw.githubusercontent.com/petermr/semanticClimate/main/ipcc/ar6/wg3/Chapter06/fulltext.flow.html\",\n",
    "        \"chap07\":\"https://raw.githubusercontent.com/petermr/semanticClimate/main/ipcc/ar6/wg3/Chapter07/fulltext.flow.html\",\n",
    "        \"chap15\":\"https://raw.githubusercontent.com/petermr/semanticClimate/main/ipcc/ar6/wg3/Chapter15/fulltext.flow.html\",\n",
    "        \"chap16\":\"https://raw.githubusercontent.com/petermr/semanticClimate/main/ipcc/ar6/wg3/Chapter16/fulltext.flow.html\"\n",
    "    }\n",
    "elif FOLDER == 'pmcid/':\n",
    "    html_dict = dict()\n",
    "    pmcids = [\n",
    "\"PMC4391421\", \"PMC5080681\",\n",
    "\"PMC5132230\", \"PMC5203915\",\"PMC5237462\", \"PMC5248495\",\"PMC5282690\", \"PMC5307246\",\"PMC5307902\", \"PMC5324201\",\n",
    "\"PMC5330108\", \"PMC5344628\",\"PMC5364420\", \"PMC5393100\",\"PMC5397855\",\"PMC5411863\",\"PMC5412227\", \"PMC5423258\",\n",
    "\"PMC5426739\",\"PMC5427463\",\"PMC5448358\",\"PMC5454990\",\"PMC5485486\",\"PMC5486035\",\"PMC5497343\",\"PMC5507808\",\"PMC5524814\",\n",
    "\"PMC5527698\",\"PMC5535876\",\"PMC5543433\",\"PMC5546729\",\"PMC5551175\",\"PMC5568258\",\"PMC5569441\",\"PMC5575638\",\n",
    "\"PMC5577677\",\"PMC5585972\",\"PMC5590060\",\"PMC5590062\",\"PMC5590063\",\"PMC5590065\",\"PMC5590066\",\"PMC5590067\",\n",
    "\"PMC5590070\",\"PMC5592951\",\"PMC5597067\",\"PMC5602041\",\"PMC5602841\",\"PMC5603114\",\"PMC5613177\",\"PMC5615139\",\n",
    "\"PMC5615285\",\"PMC5620597\",\"PMC5622382\",\"PMC5622390\",\"PMC5622397\",\"PMC5622398\",\"PMC5622401\",\"PMC5622403\",\n",
    "\"PMC5625792\",\"PMC5641611\",\"PMC5651092\",\"PMC5653886\",\"PMC5660901\",\"PMC5661929\",\"PMC5668225\",\"PMC5669080\",\"PMC5669111\",\n",
    "\"PMC5674267\",\"PMC5684592\",\"PMC5694497\",\"PMC5694587\",\"PMC5694611\",\"PMC5694875\",\"PMC5694991\",\"PMC5699893\",\"PMC5702407\",\"PMC5702920\",\n",
    "\"PMC5717781\",\"PMC5723952\",\"PMC5725564\",\"PMC5735349\",\"PMC5736702\",\"PMC5742650\",\"PMC5745743\",\"PMC5746745\",\"PMC5747963\",\"PMC5748641\",\"PMC5750594\",\n",
    "\"PMC5750605\",\"PMC5750654\",\"PMC5751248\",\"PMC5761127\",\"PMC5772139\",\"PMC5778200\",\"PMC5778779\",\n",
    "\"PMC5788217\",\"PMC5789270\",\"PMC5789316\",\"PMC5794096\",\"PMC5795983\",\"PMC5797122\",\"PMC5806308\",\"PMC5807769\",\"PMC5811758\",\"PMC5813356\",\n",
    "\"PMC5822514\",\"PMC5830750\",\"PMC5838999\",\"PMC5842484\",\"PMC5846372\",\"PMC5848570\",\"PMC5849894\",\"PMC5849899\",\n",
    "\"PMC5849928\",\"PMC5852288\",\"PMC5855832\",\"PMC5858069\",\"PMC5858457\",\"PMC5859817\",\"PMC5867545\",\"PMC5867556\",\n",
    "\"PMC5871051\",\"PMC5871294\",\"PMC5872285\",\"PMC5872290\",\"PMC5874608\",\"PMC5876267\",\"PMC5876298\",\"PMC5877547\",\n",
    "\"PMC5878871\",\"PMC5879832\",\"PMC5884000\",\"PMC5884125\",\"PMC5885327\",\"PMC5886561\",\"PMC5896384\",\"PMC5896386\",\n",
    "\"PMC5897738\",\"PMC5901951\",\"PMC5902937\",\"PMC5905184\",\"PMC5905380\",\"PMC5905578\",\"PMC5909600\",\"PMC5918559\",\n",
    "\"PMC5919639\",\"PMC5920421\",\"PMC5920425\",\"PMC5921405\",\"PMC5923693\",\"PMC5925846\",\"PMC5933010\",\"PMC5933022\",\n",
    "\"PMC5933509\",\"PMC5933692\",\"PMC5937097\",\"PMC5937106\",\"PMC5938542\",\"PMC5940754\",\"PMC5945564\",\"PMC5946457\",\n",
    "\"PMC5947909\",\"PMC5952513\",\"PMC5954905\",\"PMC5956054\",\"PMC5957362\",\"PMC5958151\",\"PMC5958191\",\"PMC5960541\",\n",
    "\"PMC5960548\",\"PMC5961776\",\"PMC5963643\",\"PMC5964621\",\"PMC5970210\",\"PMC5974043\",\"PMC5977410\",\"PMC5978029\",\n",
    "\"PMC5985564\",\"PMC5993771\",\"PMC5997812\",\"PMC6006875\",\"PMC6011056\",\"PMC6011059\",\"PMC6011244\",\"PMC6015887\",\n",
    "  ]\n",
    "\n",
    "    RAW = True\n",
    "if MAKE_DICT:\n",
    "    if RAW:\n",
    "        \"\"\"https://raw.githubusercontent.com/petermr/CEVOpen/master/searches/oil186/PMC4391421/scholarly.html\"\"\"\n",
    "        site = \"https://raw.githubusercontent.com\"\n",
    "        blob = \"master\"\n",
    "    else:\n",
    "        \"\"\"https://github.com/petermr/CEVOpen/blob/master/searches/oil186/PMC4391421/scholarly.html\"\"\"\n",
    "        site = \"https://github.com\"\n",
    "        blob = \"blob/master\"\n",
    "    repo = f\"{site}/petermr/CEVOpen/{blob}/searches/oil186\"\n",
    "    \"\"\"make the dict\"\"\"\n",
    "    for p in pmcids:\n",
    "        html_dict[p] = f\"{repo}/{p}/scholarly.html\"\n",
    "  \n",
    "    # debug\n",
    "    if DEBUG:\n",
    "        for item in list(html_dict.items())[:3]:\n",
    "            print(f\" {item}\")\n",
    "        if FOLDER == \"pmcid/\"\n",
    "            pmcid = \"PMC4391421\"\n",
    "            html_url = html_dict[pmcid]\n",
    "            assert html_url, f\"test html {pmcid}\"\n",
    "            # debug\n",
    "            f = urllib.request.urlopen(html_url)\n",
    "            content = f.read().decode(\"utf-8\")\n",
    "            print(f\"content {content}\")\n"
   ]
  },
  {
   "cell_type": "code",
   "execution_count": 12,
   "metadata": {
    "id": "AyvUyMFis0l5"
   },
   "outputs": [
    {
     "ename": "NameError",
     "evalue": "name 'dict_with_ipcc_html_links' is not defined",
     "output_type": "error",
     "traceback": [
      "\u001b[0;31m---------------------------------------------------------------------------\u001b[0m",
      "\u001b[0;31mNameError\u001b[0m                                 Traceback (most recent call last)",
      "Input \u001b[0;32mIn [12]\u001b[0m, in \u001b[0;36m<cell line: 6>\u001b[0;34m()\u001b[0m\n\u001b[1;32m      3\u001b[0m FOLDER \u001b[38;5;241m=\u001b[39m \u001b[38;5;124m'\u001b[39m\u001b[38;5;124mipcc/\u001b[39m\u001b[38;5;124m'\u001b[39m\n\u001b[1;32m      5\u001b[0m \u001b[38;5;66;03m# Part of this code comes from Ananya Singha's notebook\u001b[39;00m\n\u001b[0;32m----> 6\u001b[0m \u001b[38;5;28;01mfor\u001b[39;00m key,value \u001b[38;5;129;01min\u001b[39;00m dict_with_ipcc_html_links\u001b[38;5;241m.\u001b[39mitems():\n\u001b[1;32m      7\u001b[0m     SUB_FOLDER \u001b[38;5;241m=\u001b[39m FOLDER \u001b[38;5;241m+\u001b[39m \u001b[38;5;124mf\u001b[39m\u001b[38;5;124m\"\u001b[39m\u001b[38;5;132;01m{\u001b[39;00mkey\u001b[38;5;132;01m}\u001b[39;00m\u001b[38;5;124m/sections/\u001b[39m\u001b[38;5;124m\"\u001b[39m\n\u001b[1;32m      8\u001b[0m     \u001b[38;5;28;01mif\u001b[39;00m \u001b[38;5;129;01mnot\u001b[39;00m os\u001b[38;5;241m.\u001b[39mpath\u001b[38;5;241m.\u001b[39mexists(SUB_FOLDER):\n",
      "\u001b[0;31mNameError\u001b[0m: name 'dict_with_ipcc_html_links' is not defined"
     ]
    }
   ],
   "source": [
    "# write raw HTML to sections folder\n",
    "HTML = 'fulltext.flow.html'\n",
    "\n",
    "# Part of this code comes from Ananya Singha's notebook\n",
    "for key,value in html_dict.items():\n",
    "    SUB_FOLDER = FOLDER + f\"{key}/sections/\"\n",
    "    if not os.path.exists(SUB_FOLDER):\n",
    "       os.makedirs(SUB_FOLDER)\n",
    "    page = requests.get(value)\n",
    "    with open(SUB_FOLDER + HTML , 'wb+') as f:\n",
    "        f.write(page.content)"
   ]
  },
  {
   "cell_type": "markdown",
   "metadata": {
    "id": "hSu0r-IJzYSs"
   },
   "source": [
    "## Extract abbreviations using [`docanalysis`](https://github.com/petermr/docanalysis) and write to an ami-dictionary"
   ]
  },
  {
   "cell_type": "code",
   "execution_count": null,
   "metadata": {
    "colab": {
     "base_uri": "https://localhost:8080/"
    },
    "id": "L3rrLEpBTHFu",
    "outputId": "bc734364-afaf-4797-d6e5-fe6936dfdfb7"
   },
   "outputs": [],
   "source": [
    "!docanalysis --project_name ipcc --extract_abb all_chap --output abb.csv --make_json all_abb.json --search_html"
   ]
  },
  {
   "cell_type": "markdown",
   "metadata": {
    "id": "t1R8z4CYnhpV"
   },
   "source": [
    "## Example Output (ami-dict)\n",
    "```\n",
    "<entry name=\"VRE\" term=\"Variable Renewable Energy\" wikidataID=\"['//www.wikidata.org/wiki/Q7915732']\"/>\n",
    "  <entry name=\"SDGs\" term=\"sustainable development goals\" wikidataID=\"['//www.wikidata.org/wiki/Q7649586', '//www.wikidata.org/wiki/Q22547988', '//www.wikidata.org/wiki/Q30252260', '//www.wikidata.org/wiki/Q104759743', '//www.wikidata.org/wiki/Q111643133', '//www.wikidata.org/wiki/Q109354788', '//www.wikidata.org/wiki/Q104856926']\"/>\n",
    "  <entry name=\"TPES\" term=\"total primary energy  supply\" wikidataID=\"[]\"/>\n",
    "  <entry name=\"TFC\" term=\"total final energy consumption\" wikidataID=\"[]\"/>\n",
    "  <entry name=\"CSP\" term=\"Concentrating  solar  power\" wikidataID=\"[]\"/>\n",
    "  <entry name=\"LIBs\" term=\"lithium-ion batteries\" wikidataID=\"['//www.wikidata.org/wiki/Q106988181', '//www.wikidata.org/wiki/Q56157763', '//www.wikidata.org/wiki/Q57959688', '//www.wikidata.org/wiki/Q56157653']\"/>\n",
    "```\n",
    "\n",
    "## Example Output (as JSON)\n",
    "\n",
    "```\n",
    "    \"31\": {\n",
    "        \"file_path\": \"/content/ipcc_2/chap16/sections/fulltext.flow.html\",\n",
    "        \"sentence\": \"However, there is a growing body of evidence from developing  countries and small island developing states (SIDS) {16.4, 16.4.4.3, 16.4.4.4, 16.5, 16.7}.\",\n",
    "        \"section\": \"HTML\",\n",
    "        \"abb\": {\n",
    "            \"SIDS\": \"small island developing states\"\n",
    "        }\n",
    "    },\n",
    "    \"57\": {\n",
    "        \"file_path\": \"/content/ipcc_2/chap16/sections/fulltext.flow.html\",\n",
    "        \"sentence\": \"Sustainable  solutions  require  adoption  and  mainstreaming  of  locally  novel  technologies  that  can  meet  local  needs,  and  simultaneously  address  the  Sustainable  Development Goals (SDGs).\",\n",
    "        \"section\": \"HTML\",\n",
    "        \"abb\": {\n",
    "            \"SDGs\": \"Sustainable  Development Goals\"\n",
    "        }\n",
    "    },\n",
    "    \"74\": {\n",
    "        \"file_path\": \"/content/ipcc_2/chap16/sections/fulltext.flow.html\",\n",
    "        \"sentence\": \"Furthermore,  methodological  developments  to  improve  the  ability  of  Integrated  Assessment  Models (IAMs) to capture energy innovation system dynamics, and the relevant institutions and  policies  (including  design  and  implementation),  would  allow  for  more  realistic  assessment.\",\n",
    "        \"section\": \"HTML\",\n",
    "        \"abb\": {\n",
    "            \"IAMs\": \"Integrated  Assessment  Models\"\n",
    "        }\n",
    "    },\n",
    "    \"146\": {\n",
    "        \"file_path\": \"/content/ipcc_2/chap16/sections/fulltext.flow.html\",\n",
    "        \"sentence\": \"The  section  also  describes the different phases of innovation and metrics, such as the widely used but also criticized  technology readiness levels (TRLs).\",\n",
    "        \"section\": \"HTML\",\n",
    "        \"abb\": {\n",
    "            \"TRLs\": \"technology readiness levels\"\n",
    "        }\n",
    "    }\n",
    "```"
   ]
  },
  {
   "cell_type": "markdown",
   "metadata": {
    "id": "DOOY8ChSXAxe"
   },
   "source": [
    "## Make dictionary by extracting terms from Wikipedia\n",
    "\n",
    "In Part 1, we created dictionary by extracting information from the reports itself. These types of dictionaries are used to index HTML. \n",
    "\n",
    "In this part, Part 2, we'll show you how to create dictionaries from other sources and databases. We can use these dictionaries to search the HTML reports. "
   ]
  },
  {
   "cell_type": "code",
   "execution_count": null,
   "metadata": {
    "id": "ssmmZdS1XJ-X"
   },
   "outputs": [],
   "source": [
    "def get_raw_wikipedia_html(title_of_page):\n",
    "  raw_html = wikipedia.WikipediaPage(title_of_page).html()\n",
    "  return raw_html\n",
    "\n",
    "def get_terms(raw_html, find_element = \"dt\"):\n",
    "  soup = BeautifulSoup(raw_html, 'html.parser')\n",
    "  climate_term = []\n",
    "  black_list = ['climate', 'climate change']\n",
    "  for term in soup.find_all(find_element):\n",
    "      our_term = term.text.replace('\\n', ' ')\n",
    "      clean_term = re.sub(r'\\([^()]*\\)', '', our_term)\n",
    "      if clean_term not in black_list:\n",
    "        climate_term.append(clean_term)\n",
    "  return climate_term\n",
    "\n",
    "def write_to_dict(climate_term, title):\n",
    "    dictionary_element = etree.Element(\"dictionary\")\n",
    "    dictionary_element.attrib['title'] = title\n",
    "    for term in climate_term:\n",
    "        entry_element = etree.SubElement(dictionary_element, \"entry\")\n",
    "        entry_element.attrib['term'] = term\n",
    "    xml_dict = etree.tostring(dictionary_element, pretty_print=True).decode('utf-8')\n",
    "\n",
    "    with open(f'{title}.xml', mode='w', encoding='utf-8') as f:\n",
    "        f.write(xml_dict)"
   ]
  },
  {
   "cell_type": "code",
   "execution_count": null,
   "metadata": {
    "id": "CYdgZFr-lYZv"
   },
   "outputs": [],
   "source": [
    "# Good starting point to create climate terms dictionary: https://en.wikipedia.org/wiki/Glossary_of_climate_change\n",
    "title_of_page = \"Glossary of climate change\" \n",
    "raw_html = get_raw_wikipedia_html(title_of_page)\n",
    "climate_term = get_terms(raw_html)\n",
    "write_to_dict(climate_term, 'climate_terms')"
   ]
  },
  {
   "cell_type": "markdown",
   "metadata": {
    "id": "2ypCtQbKloDD"
   },
   "source": [
    "## Search reports for the terms from Climate Terms ami-dictionary"
   ]
  },
  {
   "cell_type": "code",
   "execution_count": null,
   "metadata": {
    "colab": {
     "base_uri": "https://localhost:8080/"
    },
    "id": "AuGBzpWcuaWJ",
    "outputId": "48724024-2d66-4f67-f85b-cb00f56fc2ab"
   },
   "outputs": [],
   "source": [
    "!docanalysis --project_name ipcc --search_html --dictionary /content/climate_terms.xml --output climate_terms.csv --make_json climate_terms.json"
   ]
  },
  {
   "cell_type": "code",
   "execution_count": null,
   "metadata": {
    "colab": {
     "base_uri": "https://localhost:8080/"
    },
    "id": "ERDSWYzg_36h",
    "outputId": "037563e6-7976-495f-a5cf-9d3eabc5f5ff"
   },
   "outputs": [],
   "source": [
    "ls /content/climate_terms.xml "
   ]
  },
  {
   "cell_type": "code",
   "execution_count": null,
   "metadata": {
    "id": "cjM_RpSEvEbX"
   },
   "outputs": [],
   "source": [
    "# finding out the most common climate-related terms mentioned in the reports\n",
    "def get_hit_counts(path):\n",
    "    with open(path, 'r') as f:\n",
    "        json_dict = json.load(f)\n",
    "\n",
    "    term_list = []\n",
    "    for key, value in json_dict.items():\n",
    "      term_list.extend(value[\"0\"])\n",
    "    final_list = [item for sublist in term_list for item in sublist]\n",
    "    return (Counter(final_list))"
   ]
  },
  {
   "cell_type": "code",
   "execution_count": null,
   "metadata": {
    "id": "Fs1_qrC2D6eG"
   },
   "outputs": [],
   "source": [
    "# generating wordcloud from search hits\n",
    "def generate_wordcloud(hits_dictionary, file_name):\n",
    "    wc = WordCloud(background_color='white', width = 700, height=300, margin=1)\n",
    "    wc.fit_words(hits_dictionary)\n",
    "    wc.to_file(file_name)"
   ]
  },
  {
   "cell_type": "code",
   "execution_count": null,
   "metadata": {
    "colab": {
     "base_uri": "https://localhost:8080/",
     "height": 363
    },
    "id": "UtUd_qOw9eGV",
    "outputId": "eec1f99f-688c-41dc-e99e-5f0d9516e8e2"
   },
   "outputs": [],
   "source": [
    "PATH = '/content/ipcc/climate_terms.json'\n",
    "FILE_NAME = 'climate_terms.png'\n",
    "climate_terms_hits = get_hit_counts(PATH)\n",
    "pprint(climate_terms_hits)\n",
    "generate_wordcloud(climate_terms_hits, FILE_NAME)"
   ]
  },
  {
   "cell_type": "code",
   "execution_count": null,
   "metadata": {
    "id": "nRZ4IlaLkcwK"
   },
   "outputs": [],
   "source": [
    "from IPython.display import Image\n",
    "Image('/content/climate_terms.png')"
   ]
  },
  {
   "cell_type": "markdown",
   "metadata": {
    "id": "bviXPtsL79e1"
   },
   "source": [
    "## Search reports for countries using existing dictionary"
   ]
  },
  {
   "cell_type": "code",
   "execution_count": null,
   "metadata": {
    "id": "I0_miGUt8Pl2"
   },
   "outputs": [],
   "source": [
    "!docanalysis --project_name ipcc --search_html --dictionary COUNTRY --output country.csv --make_json country.json"
   ]
  },
  {
   "cell_type": "code",
   "execution_count": null,
   "metadata": {
    "id": "HLaxw8Un8TOX"
   },
   "outputs": [],
   "source": [
    "COUNTRY_PATH = '/content/ipcc/country.json'\n",
    "COUNTRY_FILE_NAME = '/content/country.png'\n",
    "country_hits = get_hit_counts(COUNTRY_PATH)\n",
    "pprint(country_hits)\n",
    "generate_wordcloud(country_hits, COUNTRY_FILE_NAME)"
   ]
  },
  {
   "cell_type": "code",
   "execution_count": null,
   "metadata": {
    "id": "VsYShXHp8J-n"
   },
   "outputs": [],
   "source": [
    "from IPython.display import Image\n",
    "Image(COUNTRY_FILE_NAME)"
   ]
  },
  {
   "cell_type": "code",
   "execution_count": null,
   "metadata": {
    "id": "7zKTZ5Ly8cSQ"
   },
   "outputs": [],
   "source": [
    "!docanalysis --project_name ipcc --search_html --dictionary COUNTRY /content/climate_terms.xml --output country_climate_terms.csv --make_json country_climate_terms.json"
   ]
  },
  {
   "cell_type": "markdown",
   "metadata": {
    "id": "gTq9akRN9KTH"
   },
   "source": [
    "```\n",
    "    \"9895\": {\n",
    "        \"file_path\": \"/content/ipcc/chap16/sections/fulltext.flow.html\",\n",
    "        \"sentence\": \"Furthermore, existing interests, such as fossil fuel production, may also impede the  deployment  of  low-emission  technologies,  as  highlighted  in  case  studies  of  Vietnam  and  Indonesia  (Dorband  et  al.\",\n",
    "        \"section\": \"HTML\",\n",
    "        \"0\": [\n",
    "            [\n",
    "                \"Vietnam\",\n",
    "                \"Indonesia\"\n",
    "            ]\n",
    "        ],\n",
    "        \"0_span\": [\n",
    "            [\n",
    "                [\n",
    "                    171,\n",
    "                    178\n",
    "                ],\n",
    "                [\n",
    "                    185,\n",
    "                    194\n",
    "                ]\n",
    "            ]\n",
    "        ],\n",
    "        \"weight_0\": 2,\n",
    "        \"1\": [\n",
    "            [\n",
    "                \"fossil fuel\"\n",
    "            ]\n",
    "        ],\n",
    "        \"1_span\": [\n",
    "            [\n",
    "                [\n",
    "                    41,\n",
    "                    52\n",
    "                ]\n",
    "            ]\n",
    "        ],\n",
    "        \"weight_1\": 1\n",
    "    },       \n",
    "```"
   ]
  }
 ],
 "metadata": {
  "colab": {
   "collapsed_sections": [],
   "include_colab_link": true,
   "name": "ipcc_analysis.ipynb",
   "provenance": []
  },
  "kernelspec": {
   "display_name": "Python 3 (ipykernel)",
   "language": "python",
   "name": "python3"
  },
  "language_info": {
   "codemirror_mode": {
    "name": "ipython",
    "version": 3
   },
   "file_extension": ".py",
   "mimetype": "text/x-python",
   "name": "python",
   "nbconvert_exporter": "python",
   "pygments_lexer": "ipython3",
   "version": "3.8.3"
  }
 },
 "nbformat": 4,
 "nbformat_minor": 1
}
