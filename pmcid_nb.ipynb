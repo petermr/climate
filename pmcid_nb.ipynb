{
 "cells": [
  {
   "cell_type": "code",
   "execution_count": 1,
   "metadata": {
    "colab": {
     "base_uri": "https://localhost:8080/",
     "height": 1000
    },
    "id": "DI0RTVx_WrXW",
    "outputId": "e95d934d-bf13-4822-9839-61df579da53c"
   },
   "outputs": [],
   "source": [
    "IPCC = \"ipcc\"\n",
    "OIL186 = \"oil186\"\n",
    "CLIMATE100 = \"climate100\"\n",
    "# PROJECT = IPCC\n",
    "PROJECT = OIL186\n",
    "PROJECT = CLIMATE100\n",
    "# DEBUG = True\n",
    "DEBUG = False\n",
    "LOCAL = True\n",
    "HOME_PROJECTS = \"/Users/pm286/projects\"\n",
    "NOTEBOOK = \"/content/{PROJECT}\"\n",
    "if PROJECT == OIL186:\n",
    "    MAKE_DICT = True\n",
    "    GITHUB_SITE = \"https://raw.githubusercontent.com\"\n",
    "    REPO = \"petermr/CEVOpen\"\n",
    "    BLOB = \"master\"\n",
    "    PROJ_TREE = \"searches/oil186\"\n",
    "    HTML = 'scholarly.html'\n",
    "    LOCAL_DIR = f\"{HOME_PROJECTS}/CEVOpen/searches/oil186\"\n",
    "elif PROJECT == CLIMATE100:\n",
    "    MAKE_DICT = True\n",
    "    GITHUB_SITE = \"https://raw.githubusercontent.com\"\n",
    "    REPO = \"petermr/climate\"\n",
    "    BLOB = \"master\"\n",
    "    PROJ_TREE = \"searches/oil186\"\n",
    "    HTML = 'scholarly.html'\n",
    "    LOCAL_DIR = f\"{HOME_PROJECTS}/climate\"\n",
    "    DICT_DIR = LOCAL_DIR\n",
    "    DICT_NAME = \"climate_terms\"\n",
    "\n",
    "elif PROJECT == IPCC:\n",
    "    MAKE_DICT = True\n",
    "    GITHUB_SITE = \"https://raw.githubusercontent.com\"\n",
    "    REPO = \"petermr/semanticClimate\"\n",
    "    BLOB = \"master\"\n",
    "    PROJ_TREE = \"ipcc/ar6/wg3\"\n",
    "    HTML = 'fulltext.flow.html'\n",
    "\n",
    "\n",
    "INSTALL = False\n",
    "if INSTALL:\n",
    "\n",
    "    !pip install wikipedia #to scrape wikipedia for climate-related terms\n",
    "    !pip install docanalysis # Semantic Climate's tool to search using existing dictionaries and create new ones from scratch\n",
    "    !pip install wordcloud # to represent search results as Wordclouds\n",
    "    !docanalysis --help"
   ]
  },
  {
   "cell_type": "markdown",
   "metadata": {
    "id": "rJ5uGYOVzS3Y"
   },
   "source": [
    "# Getting started\n",
    "This notebook should appear in your browser...\n",
    "\n",
    "This operation loads all the software into Google Colabs automatically\n",
    "\n",
    "## Install packages"
   ]
  },
  {
   "cell_type": "markdown",
   "metadata": {
    "id": "hCGLKDagmasR"
   },
   "source": [
    "This Colab Notebook is a part of Post Hackthon Pitch to SDG Accelerator, Geneva. Make a copy of it in your Drive and run it. \n",
    "\n",
    "- [Presentation Video](https://youtu.be/0MGXic-uEQY): 12 min. video on YouTube\n",
    "- [Slides (PPT)](https://github.com/petermr/semanticClimate/blob/main/outreach/piaget_hackathon/post_hackathon_pitch_v3.pptx)"
   ]
  },
  {
   "cell_type": "code",
   "execution_count": 2,
   "metadata": {
    "id": "ox65FVLjXUDi"
   },
   "outputs": [],
   "source": [
    "# importing all packages\n",
    "from pprint import pprint\n",
    "import wikipedia\n",
    "import urllib\n",
    "from bs4 import BeautifulSoup # to parse html and pull out text\n",
    "import re\n",
    "import requests\n",
    "import os\n",
    "from lxml import etree # to create dictionaries \n",
    "from collections import Counter\n",
    "import json\n",
    "from wordcloud import WordCloud"
   ]
  },
  {
   "cell_type": "markdown",
   "metadata": {
    "id": "G8wb4BZcn01U"
   },
   "source": [
    "## Get HTML\n",
    "\n",
    "[`pyami`](https://github.com/petermr/pyami) converts PDF IPCC Reports into HTMLs that we store in our SemanticClimate GitHub Repository. You can find them, [here](https://github.com/petermr/semanticClimate/tree/main/ipcc/ar6/wg3)."
   ]
  },
  {
   "cell_type": "code",
   "execution_count": 3,
   "metadata": {
    "id": "3EHTlRwzpJ0U"
   },
   "outputs": [],
   "source": [
    "html_dict = dict()\n",
    "if PROJECT == IPCC:\n",
    "#     python dictionary with links to raw IPCC reports HTML\n",
    "    CTREE_LIST = [\n",
    "        \"Chapter01\",\n",
    "        \"Chapter04\",\n",
    "        \"Chapter06\",\n",
    "        \"Chapter07\",\n",
    "        \"Chapter15\",\n",
    "        \"Chapter16\",\n",
    "    ]\n",
    "    for CTREE in CTREE_LIST:\n",
    "        url = f\"{GITHUB}/{REPO}/{BLOB}/{PROJ_TREE}/{CTREE}/{HTML}\"\n",
    "        html_dict[f\"{CTREE}\"] = url\n",
    "        printf(url)\n",
    "            \n",
    "        \n",
    "#         \"chap04\":\"https://raw.githubusercontent.com/petermr/semanticClimate/main/ipcc/ar6/wg3/Chapter04/fulltext.flow.html\",\n",
    "#         \"chap06\":\"https://raw.githubusercontent.com/petermr/semanticClimate/main/ipcc/ar6/wg3/Chapter06/fulltext.flow.html\",\n",
    "#         \"chap07\":\"https://raw.githubusercontent.com/petermr/semanticClimate/main/ipcc/ar6/wg3/Chapter07/fulltext.flow.html\",\n",
    "#         \"chap15\":\"https://raw.githubusercontent.com/petermr/semanticClimate/main/ipcc/ar6/wg3/Chapter15/fulltext.flow.html\",\n",
    "#         \"chap16\":\"https://raw.githubusercontent.com/petermr/semanticClimate/main/ipcc/ar6/wg3/Chapter16/fulltext.flow.html\"\n",
    "    \n",
    "elif PROJECT == OIL186:\n",
    "    CTREE_LIST = [\n",
    "                \"PMC4391421\", \"PMC5080681\",\n",
    "                \"PMC5132230\", \"PMC5203915\",\"PMC5237462\", \"PMC5248495\",\"PMC5282690\", \"PMC5307246\",\"PMC5307902\", \"PMC5324201\",\n",
    "                \"PMC5330108\", \"PMC5344628\",\"PMC5364420\", \"PMC5393100\",\"PMC5397855\",\"PMC5411863\",\"PMC5412227\", \"PMC5423258\",\n",
    "                \"PMC5426739\",\"PMC5427463\",\"PMC5448358\",\"PMC5454990\",\"PMC5485486\",\"PMC5486035\",\"PMC5497343\",\"PMC5507808\",\"PMC5524814\",\n",
    "                \"PMC5527698\",\"PMC5535876\",\"PMC5543433\",\"PMC5546729\",\"PMC5551175\",\"PMC5568258\",\"PMC5569441\",\"PMC5575638\",\n",
    "                \"PMC5577677\",\"PMC5585972\",\"PMC5590060\",\"PMC5590062\",\"PMC5590063\",\"PMC5590065\",\"PMC5590066\",\"PMC5590067\",\n",
    "                \"PMC5590070\",\"PMC5592951\",\"PMC5597067\",\"PMC5602041\",\"PMC5602841\",\"PMC5603114\",\"PMC5613177\",\"PMC5615139\",\n",
    "                \"PMC5615285\",\"PMC5620597\",\"PMC5622382\",\"PMC5622390\",\"PMC5622397\",\"PMC5622398\",\"PMC5622401\",\"PMC5622403\",\n",
    "                \"PMC5625792\",\"PMC5641611\",\"PMC5651092\",\"PMC5653886\",\"PMC5660901\",\"PMC5661929\",\"PMC5668225\",\"PMC5669080\",\"PMC5669111\",\n",
    "                \"PMC5674267\",\"PMC5684592\",\"PMC5694497\",\"PMC5694587\",\"PMC5694611\",\"PMC5694875\",\"PMC5694991\",\"PMC5699893\",\"PMC5702407\",\"PMC5702920\",\n",
    "                \"PMC5717781\",\"PMC5723952\",\"PMC5725564\",\"PMC5735349\",\"PMC5736702\",\"PMC5742650\",\"PMC5745743\",\"PMC5746745\",\"PMC5747963\",\"PMC5748641\",\"PMC5750594\",\n",
    "                \"PMC5750605\",\"PMC5750654\",\"PMC5751248\",\"PMC5761127\",\"PMC5772139\",\"PMC5778200\",\"PMC5778779\",\n",
    "                \"PMC5788217\",\"PMC5789270\",\"PMC5789316\",\"PMC5794096\",\"PMC5795983\",\"PMC5797122\",\"PMC5806308\",\"PMC5807769\",\"PMC5811758\",\"PMC5813356\",\n",
    "                \"PMC5822514\",\"PMC5830750\",\"PMC5838999\",\"PMC5842484\",\"PMC5846372\",\"PMC5848570\",\"PMC5849894\",\"PMC5849899\",\n",
    "                \"PMC5849928\",\"PMC5852288\",\"PMC5855832\",\"PMC5858069\",\"PMC5858457\",\"PMC5859817\",\"PMC5867545\",\"PMC5867556\",\n",
    "                \"PMC5871051\",\"PMC5871294\",\"PMC5872285\",\"PMC5872290\",\"PMC5874608\",\"PMC5876267\",\"PMC5876298\",\"PMC5877547\",\n",
    "                \"PMC5878871\",\"PMC5879832\",\"PMC5884000\",\"PMC5884125\",\"PMC5885327\",\"PMC5886561\",\"PMC5896384\",\"PMC5896386\",\n",
    "                \"PMC5897738\",\"PMC5901951\",\"PMC5902937\",\"PMC5905184\",\"PMC5905380\",\"PMC5905578\",\"PMC5909600\",\"PMC5918559\",\n",
    "                \"PMC5919639\",\"PMC5920421\",\"PMC5920425\",\"PMC5921405\",\"PMC5923693\",\"PMC5925846\",\"PMC5933010\",\"PMC5933022\",\n",
    "                \"PMC5933509\",\"PMC5933692\",\"PMC5937097\",\"PMC5937106\",\"PMC5938542\",\"PMC5940754\",\"PMC5945564\",\"PMC5946457\",\n",
    "                \"PMC5947909\",\"PMC5952513\",\"PMC5954905\",\"PMC5956054\",\"PMC5957362\",\"PMC5958151\",\"PMC5958191\",\"PMC5960541\",\n",
    "                \"PMC5960548\",\"PMC5961776\",\"PMC5963643\",\"PMC5964621\",\"PMC5970210\",\"PMC5974043\",\"PMC5977410\",\"PMC5978029\",\n",
    "                \"PMC5985564\",\"PMC5993771\",\"PMC5997812\",\"PMC6006875\",\"PMC6011056\",\"PMC6011059\",\"PMC6011244\",\"PMC6015887\"\n",
    "                  ]\n",
    "    \n",
    "elif PROJECT == CLIMATE100:\n",
    "    CTREE_LIST = [\n",
    "                \"PMC4391421\", \"PMC5080681\",\n",
    "    ]\n",
    "else:\n",
    "    print(f\"BAD project {PROJECT}\")\n",
    "\n",
    "if MAKE_DICT:\n",
    "    \"\"\"https://raw.githubusercontent.com/petermr/CEVOpen/master/searches/oil186/PMC4391421/scholarly.html\"\"\"\n",
    "    \"\"\"make the dict\"\"\"\n",
    "    for CTREE in CTREE_LIST:\n",
    "        html_dict[CTREE] = f\"{GITHUB_SITE}/{REPO}/{BLOB}/{PROJ_TREE}/{CTREE}/{HTML}\"\n",
    "        if DEBUG:\n",
    "            print(f\"url: {html_dict[CTREE]}\")\n",
    "  \n",
    "    # debug\n",
    "    if DEBUG:\n",
    "        for item in list(html_dict.items())[:3]:\n",
    "            print(f\" {item}\")\n",
    "        if PROJECT == PMCID:\n",
    "            pmcid = \"PMC4391421\"\n",
    "            html_url = html_dict[pmcid]\n",
    "            assert html_url, f\"test html {pmcid}\"\n",
    "            # debug\n",
    "            f = urllib.request.urlopen(html_url)\n",
    "            content = f.read().decode(\"utf-8\")\n",
    "            print(f\"content {content}\")\n"
   ]
  },
  {
   "cell_type": "code",
   "execution_count": 4,
   "metadata": {
    "id": "AyvUyMFis0l5"
   },
   "outputs": [],
   "source": [
    "# write raw HTML to sections folder\n",
    "\n",
    "# Part of this code comes from Ananya Singha's notebook\n",
    "for key,value in html_dict.items():\n",
    "    SUB_FOLDER = f\"{PROJECT}/{key}/sections/\"\n",
    "    if not os.path.exists(SUB_FOLDER):\n",
    "       os.makedirs(SUB_FOLDER)\n",
    "    page = requests.get(value)\n",
    "    with open(SUB_FOLDER + HTML , 'wb+') as f:\n",
    "        f.write(page.content)"
   ]
  },
  {
   "cell_type": "markdown",
   "metadata": {
    "id": "hSu0r-IJzYSs"
   },
   "source": [
    "## Extract abbreviations using [`docanalysis`](https://github.com/petermr/docanalysis) and write to an ami-dictionary"
   ]
  },
  {
   "cell_type": "code",
   "execution_count": 5,
   "metadata": {
    "colab": {
     "base_uri": "https://localhost:8080/"
    },
    "id": "L3rrLEpBTHFu",
    "outputId": "bc734364-afaf-4797-d6e5-fe6936dfdfb7"
   },
   "outputs": [
    {
     "name": "stdout",
     "output_type": "stream",
     "text": [
      "/opt/anaconda3/lib/python3.8/site-packages/_distutils_hack/__init__.py:36: UserWarning: Setuptools is replacing distutils.\n",
      "  warnings.warn(\"Setuptools is replacing distutils.\")\n",
      "100%|█████████████████████████████████████████| 186/186 [00:07<00:00, 25.49it/s]\n",
      "\u001b[1;30mINFO:\u001b[0m Found 1674 sentences in the section(s).\n",
      "0it [00:00, ?it/s]\n",
      "\u001b[1;30mINFO:\u001b[0m wrote all abbreviations to ami dict /Users/pm286/projects/climate/ipcc/all_chap.xml\n",
      "\u001b[1;30mINFO:\u001b[0m wrote output to /Users/pm286/projects/climate/ipcc/abb.csv\n",
      "\u001b[1;30mINFO:\u001b[0m wrote JSON output to /Users/pm286/projects/climate/ipcc/all_abb.json\n"
     ]
    }
   ],
   "source": [
    "!docanalysis --project_name ipcc --extract_abb all_chap --output abb.csv --make_json all_abb.json --search_html"
   ]
  },
  {
   "cell_type": "markdown",
   "metadata": {
    "id": "t1R8z4CYnhpV"
   },
   "source": [
    "## Example Output (ami-dict)\n",
    "```\n",
    "<entry name=\"VRE\" term=\"Variable Renewable Energy\" wikidataID=\"['//www.wikidata.org/wiki/Q7915732']\"/>\n",
    "  <entry name=\"SDGs\" term=\"sustainable development goals\" wikidataID=\"['//www.wikidata.org/wiki/Q7649586', '//www.wikidata.org/wiki/Q22547988', '//www.wikidata.org/wiki/Q30252260', '//www.wikidata.org/wiki/Q104759743', '//www.wikidata.org/wiki/Q111643133', '//www.wikidata.org/wiki/Q109354788', '//www.wikidata.org/wiki/Q104856926']\"/>\n",
    "  <entry name=\"TPES\" term=\"total primary energy  supply\" wikidataID=\"[]\"/>\n",
    "  <entry name=\"TFC\" term=\"total final energy consumption\" wikidataID=\"[]\"/>\n",
    "  <entry name=\"CSP\" term=\"Concentrating  solar  power\" wikidataID=\"[]\"/>\n",
    "  <entry name=\"LIBs\" term=\"lithium-ion batteries\" wikidataID=\"['//www.wikidata.org/wiki/Q106988181', '//www.wikidata.org/wiki/Q56157763', '//www.wikidata.org/wiki/Q57959688', '//www.wikidata.org/wiki/Q56157653']\"/>\n",
    "```\n",
    "\n",
    "## Example Output (as JSON)\n",
    "\n",
    "```\n",
    "    \"31\": {\n",
    "        \"file_path\": \"/content/ipcc_2/chap16/sections/fulltext.flow.html\",\n",
    "        \"sentence\": \"However, there is a growing body of evidence from developing  countries and small island developing states (SIDS) {16.4, 16.4.4.3, 16.4.4.4, 16.5, 16.7}.\",\n",
    "        \"section\": \"HTML\",\n",
    "        \"abb\": {\n",
    "            \"SIDS\": \"small island developing states\"\n",
    "        }\n",
    "    },\n",
    "    \"57\": {\n",
    "        \"file_path\": \"/content/ipcc_2/chap16/sections/fulltext.flow.html\",\n",
    "        \"sentence\": \"Sustainable  solutions  require  adoption  and  mainstreaming  of  locally  novel  technologies  that  can  meet  local  needs,  and  simultaneously  address  the  Sustainable  Development Goals (SDGs).\",\n",
    "        \"section\": \"HTML\",\n",
    "        \"abb\": {\n",
    "            \"SDGs\": \"Sustainable  Development Goals\"\n",
    "        }\n",
    "    },\n",
    "    \"74\": {\n",
    "        \"file_path\": \"/content/ipcc_2/chap16/sections/fulltext.flow.html\",\n",
    "        \"sentence\": \"Furthermore,  methodological  developments  to  improve  the  ability  of  Integrated  Assessment  Models (IAMs) to capture energy innovation system dynamics, and the relevant institutions and  policies  (including  design  and  implementation),  would  allow  for  more  realistic  assessment.\",\n",
    "        \"section\": \"HTML\",\n",
    "        \"abb\": {\n",
    "            \"IAMs\": \"Integrated  Assessment  Models\"\n",
    "        }\n",
    "    },\n",
    "    \"146\": {\n",
    "        \"file_path\": \"/content/ipcc_2/chap16/sections/fulltext.flow.html\",\n",
    "        \"sentence\": \"The  section  also  describes the different phases of innovation and metrics, such as the widely used but also criticized  technology readiness levels (TRLs).\",\n",
    "        \"section\": \"HTML\",\n",
    "        \"abb\": {\n",
    "            \"TRLs\": \"technology readiness levels\"\n",
    "        }\n",
    "    }\n",
    "```"
   ]
  },
  {
   "cell_type": "markdown",
   "metadata": {
    "id": "DOOY8ChSXAxe"
   },
   "source": [
    "## Make dictionary by extracting terms from Wikipedia\n",
    "\n",
    "In Part 1, we created dictionary by extracting information from the reports itself. These types of dictionaries are used to index HTML. \n",
    "\n",
    "In this part, Part 2, we'll show you how to create dictionaries from other sources and databases. We can use these dictionaries to search the HTML reports. "
   ]
  },
  {
   "cell_type": "code",
   "execution_count": 6,
   "metadata": {
    "id": "ssmmZdS1XJ-X"
   },
   "outputs": [],
   "source": [
    "def get_raw_wikipedia_html(title_of_page):\n",
    "  raw_html = wikipedia.WikipediaPage(title_of_page).html()\n",
    "  return raw_html\n",
    "\n",
    "def get_terms(raw_html, find_element = \"dt\"):\n",
    "  soup = BeautifulSoup(raw_html, 'html.parser')\n",
    "  climate_term = []\n",
    "  black_list = ['climate', 'climate change']\n",
    "  for term in soup.find_all(find_element):\n",
    "      our_term = term.text.replace('\\n', ' ')\n",
    "      clean_term = re.sub(r'\\([^()]*\\)', '', our_term)\n",
    "      if clean_term not in black_list:\n",
    "        climate_term.append(clean_term)\n",
    "  return climate_term\n",
    "\n",
    "def write_to_dict(climate_term, title):\n",
    "    dictionary_element = etree.Element(\"dictionary\")\n",
    "    dictionary_element.attrib['title'] = title\n",
    "    for term in climate_term:\n",
    "        entry_element = etree.SubElement(dictionary_element, \"entry\")\n",
    "        entry_element.attrib['term'] = term\n",
    "    xml_dict = etree.tostring(dictionary_element, pretty_print=True).decode('utf-8')\n",
    "\n",
    "    with open(f'{title}.xml', mode='w', encoding='utf-8') as f:\n",
    "        f.write(xml_dict)"
   ]
  },
  {
   "cell_type": "code",
   "execution_count": 7,
   "metadata": {},
   "outputs": [
    {
     "name": "stdout",
     "output_type": "stream",
     "text": [
      "pwd=/Users/pm286/projects/climate\r\n"
     ]
    }
   ],
   "source": [
    "print(f\"pwd=\", end=\"\")\n",
    "!pwd\n"
   ]
  },
  {
   "cell_type": "code",
   "execution_count": 8,
   "metadata": {
    "id": "CYdgZFr-lYZv"
   },
   "outputs": [],
   "source": [
    "# Good starting point to create climate terms dictionary: https://en.wikipedia.org/wiki/Glossary_of_climate_change\n",
    "title_of_page = \"Glossary of climate change\" \n",
    "raw_html = get_raw_wikipedia_html(title_of_page)\n",
    "climate_term = get_terms(raw_html)\n",
    "write_to_dict(climate_term, 'climate_terms')"
   ]
  },
  {
   "cell_type": "markdown",
   "metadata": {
    "id": "2ypCtQbKloDD"
   },
   "source": [
    "## Search reports for the terms from Climate Terms ami-dictionary"
   ]
  },
  {
   "cell_type": "code",
   "execution_count": 9,
   "metadata": {
    "colab": {
     "base_uri": "https://localhost:8080/"
    },
    "id": "AuGBzpWcuaWJ",
    "outputId": "48724024-2d66-4f67-f85b-cb00f56fc2ab",
    "scrolled": true
   },
   "outputs": [
    {
     "name": "stdout",
     "output_type": "stream",
     "text": [
      "/opt/anaconda3/lib/python3.8/site-packages/_distutils_hack/__init__.py:36: UserWarning: Setuptools is replacing distutils.\n",
      "  warnings.warn(\"Setuptools is replacing distutils.\")\n",
      "100%|█████████████████████████████████████████| 186/186 [00:06<00:00, 26.57it/s]\n",
      "\u001b[1;30mINFO:\u001b[0m Found 1674 sentences in the section(s).\n",
      "\u001b[1;30mINFO:\u001b[0m getting terms from /Users/pm286/projects/climate/climate_terms.xml\n",
      "100%|█████████████████████████████████████| 1674/1674 [00:01<00:00, 1421.47it/s]\n",
      "\u001b[1;30mINFO:\u001b[0m wrote output to /Users/pm286/projects/climate/ipcc/climate_terms.csv\n",
      "\u001b[1;30mINFO:\u001b[0m wrote JSON output to /Users/pm286/projects/climate/ipcc/climate_terms.json\n"
     ]
    }
   ],
   "source": [
    "!docanalysis --project_name ipcc --search_html --dictionary {DICT_DIR}/{DICT_NAME}.xml --output {DICT_NAME}.csv --make_json {DICT_NAME}.json"
   ]
  },
  {
   "cell_type": "code",
   "execution_count": 10,
   "metadata": {
    "colab": {
     "base_uri": "https://localhost:8080/"
    },
    "id": "ERDSWYzg_36h",
    "outputId": "037563e6-7976-495f-a5cf-9d3eabc5f5ff"
   },
   "outputs": [
    {
     "name": "stdout",
     "output_type": "stream",
     "text": [
      "-rw-r--r--  1 pm286  staff  5796 13 Aug 22:19 /Users/pm286/projects/climate/climate_terms.xml\r\n"
     ]
    }
   ],
   "source": [
    "ls -l {DICT_DIR}/{DICT_NAME}.xml "
   ]
  },
  {
   "cell_type": "code",
   "execution_count": 11,
   "metadata": {
    "id": "cjM_RpSEvEbX"
   },
   "outputs": [],
   "source": [
    "# finding out the most common climate-related terms mentioned in the reports\n",
    "def get_hit_counts(path):\n",
    "    with open(path, 'r') as f:\n",
    "        json_dict = json.load(f)\n",
    "\n",
    "    term_list = []\n",
    "    for key, value in json_dict.items():\n",
    "      term_list.extend(value[\"0\"])\n",
    "    final_list = [item for sublist in term_list for item in sublist]\n",
    "    return (Counter(final_list))"
   ]
  },
  {
   "cell_type": "code",
   "execution_count": 12,
   "metadata": {
    "id": "Fs1_qrC2D6eG"
   },
   "outputs": [],
   "source": [
    "# generating wordcloud from search hits\n",
    "def generate_wordcloud_and_save(hits_dictionary, png_file):\n",
    "    wc = WordCloud(background_color='white', width = 700, height=300, margin=1)\n",
    "    wc.fit_words(hits_dictionary)\n",
    "    wc.to_file(png_file)"
   ]
  },
  {
   "cell_type": "code",
   "execution_count": null,
   "metadata": {},
   "outputs": [],
   "source": []
  },
  {
   "cell_type": "code",
   "execution_count": null,
   "metadata": {},
   "outputs": [],
   "source": []
  },
  {
   "cell_type": "code",
   "execution_count": 13,
   "metadata": {
    "colab": {
     "base_uri": "https://localhost:8080/",
     "height": 363
    },
    "id": "UtUd_qOw9eGV",
    "outputId": "eec1f99f-688c-41dc-e99e-5f0d9516e8e2"
   },
   "outputs": [
    {
     "ename": "FileNotFoundError",
     "evalue": "[Errno 2] No such file or directory: '/content/ipcc/climate_terms.json'",
     "output_type": "error",
     "traceback": [
      "\u001b[0;31m---------------------------------------------------------------------------\u001b[0m",
      "\u001b[0;31mFileNotFoundError\u001b[0m                         Traceback (most recent call last)",
      "Input \u001b[0;32mIn [13]\u001b[0m, in \u001b[0;36m<cell line: 3>\u001b[0;34m()\u001b[0m\n\u001b[1;32m      1\u001b[0m PATH \u001b[38;5;241m=\u001b[39m \u001b[38;5;124m'\u001b[39m\u001b[38;5;124m/content/ipcc/climate_terms.json\u001b[39m\u001b[38;5;124m'\u001b[39m\n\u001b[1;32m      2\u001b[0m FILE_NAME \u001b[38;5;241m=\u001b[39m \u001b[38;5;124m'\u001b[39m\u001b[38;5;124mclimate_terms.png\u001b[39m\u001b[38;5;124m'\u001b[39m\n\u001b[0;32m----> 3\u001b[0m climate_terms_hits \u001b[38;5;241m=\u001b[39m get_hit_counts(PATH)\n\u001b[1;32m      4\u001b[0m pprint(climate_terms_hits)\n\u001b[1;32m      5\u001b[0m generate_wordcloud(climate_terms_hits, FILE_NAME)\n",
      "Input \u001b[0;32mIn [11]\u001b[0m, in \u001b[0;36mget_hit_counts\u001b[0;34m(path)\u001b[0m\n\u001b[1;32m      2\u001b[0m \u001b[38;5;28;01mdef\u001b[39;00m \u001b[38;5;21mget_hit_counts\u001b[39m(path):\n\u001b[0;32m----> 3\u001b[0m     \u001b[38;5;28;01mwith\u001b[39;00m \u001b[38;5;28;43mopen\u001b[39;49m\u001b[43m(\u001b[49m\u001b[43mpath\u001b[49m\u001b[43m,\u001b[49m\u001b[43m \u001b[49m\u001b[38;5;124;43m'\u001b[39;49m\u001b[38;5;124;43mr\u001b[39;49m\u001b[38;5;124;43m'\u001b[39;49m\u001b[43m)\u001b[49m \u001b[38;5;28;01mas\u001b[39;00m f:\n\u001b[1;32m      4\u001b[0m         json_dict \u001b[38;5;241m=\u001b[39m json\u001b[38;5;241m.\u001b[39mload(f)\n\u001b[1;32m      6\u001b[0m     term_list \u001b[38;5;241m=\u001b[39m []\n",
      "\u001b[0;31mFileNotFoundError\u001b[0m: [Errno 2] No such file or directory: '/content/ipcc/climate_terms.json'"
     ]
    }
   ],
   "source": [
    "json_file = '/content/ipcc/{DICT_NAME}.json'\n",
    "png_file = f'{DICT_NAME}.png'\n",
    "climate_terms_hits = get_hit_counts(json_file)\n",
    "pprint(climate_terms_hits)\n",
    "generate_wordcloud_and_save(climate_terms_hits, png_file)"
   ]
  },
  {
   "cell_type": "code",
   "execution_count": null,
   "metadata": {
    "id": "nRZ4IlaLkcwK"
   },
   "outputs": [],
   "source": [
    "from IPython.display import Image\n",
    "Image('/content/climate_terms.png')"
   ]
  },
  {
   "cell_type": "markdown",
   "metadata": {
    "id": "bviXPtsL79e1"
   },
   "source": [
    "## Search reports for countries using existing dictionary"
   ]
  },
  {
   "cell_type": "code",
   "execution_count": null,
   "metadata": {
    "id": "I0_miGUt8Pl2"
   },
   "outputs": [],
   "source": [
    "!docanalysis --project_name ipcc --search_html --dictionary COUNTRY --output country.csv --make_json country.json"
   ]
  },
  {
   "cell_type": "code",
   "execution_count": null,
   "metadata": {
    "id": "HLaxw8Un8TOX"
   },
   "outputs": [],
   "source": [
    "COUNTRY_PATH = '/content/ipcc/country.json'\n",
    "COUNTRY_FILE_NAME = '/content/country.png'\n",
    "country_hits = get_hit_counts(COUNTRY_PATH)\n",
    "pprint(country_hits)\n",
    "generate_wordcloud(country_hits, COUNTRY_FILE_NAME)"
   ]
  },
  {
   "cell_type": "code",
   "execution_count": null,
   "metadata": {
    "id": "VsYShXHp8J-n"
   },
   "outputs": [],
   "source": [
    "from IPython.display import Image\n",
    "Image(COUNTRY_FILE_NAME)"
   ]
  },
  {
   "cell_type": "code",
   "execution_count": null,
   "metadata": {
    "id": "7zKTZ5Ly8cSQ"
   },
   "outputs": [],
   "source": [
    "!docanalysis --project_name ipcc --search_html --dictionary COUNTRY /content/climate_terms.xml --output country_climate_terms.csv --make_json country_climate_terms.json"
   ]
  },
  {
   "cell_type": "markdown",
   "metadata": {
    "id": "gTq9akRN9KTH"
   },
   "source": [
    "```\n",
    "    \"9895\": {\n",
    "        \"file_path\": \"/content/ipcc/chap16/sections/fulltext.flow.html\",\n",
    "        \"sentence\": \"Furthermore, existing interests, such as fossil fuel production, may also impede the  deployment  of  low-emission  technologies,  as  highlighted  in  case  studies  of  Vietnam  and  Indonesia  (Dorband  et  al.\",\n",
    "        \"section\": \"HTML\",\n",
    "        \"0\": [\n",
    "            [\n",
    "                \"Vietnam\",\n",
    "                \"Indonesia\"\n",
    "            ]\n",
    "        ],\n",
    "        \"0_span\": [\n",
    "            [\n",
    "                [\n",
    "                    171,\n",
    "                    178\n",
    "                ],\n",
    "                [\n",
    "                    185,\n",
    "                    194\n",
    "                ]\n",
    "            ]\n",
    "        ],\n",
    "        \"weight_0\": 2,\n",
    "        \"1\": [\n",
    "            [\n",
    "                \"fossil fuel\"\n",
    "            ]\n",
    "        ],\n",
    "        \"1_span\": [\n",
    "            [\n",
    "                [\n",
    "                    41,\n",
    "                    52\n",
    "                ]\n",
    "            ]\n",
    "        ],\n",
    "        \"weight_1\": 1\n",
    "    },       \n",
    "```"
   ]
  }
 ],
 "metadata": {
  "colab": {
   "collapsed_sections": [],
   "include_colab_link": true,
   "name": "ipcc_analysis.ipynb",
   "provenance": []
  },
  "kernelspec": {
   "display_name": "Python 3 (ipykernel)",
   "language": "python",
   "name": "python3"
  },
  "language_info": {
   "codemirror_mode": {
    "name": "ipython",
    "version": 3
   },
   "file_extension": ".py",
   "mimetype": "text/x-python",
   "name": "python",
   "nbconvert_exporter": "python",
   "pygments_lexer": "ipython3",
   "version": "3.8.3"
  }
 },
 "nbformat": 4,
 "nbformat_minor": 1
}
